{
 "cells": [
  {
   "cell_type": "code",
   "execution_count": 104,
   "metadata": {},
   "outputs": [],
   "source": [
    "import pandas as pd"
   ]
  },
  {
   "cell_type": "code",
   "execution_count": 105,
   "metadata": {},
   "outputs": [],
   "source": [
    "import matplotlib.pyplot as plt"
   ]
  },
  {
   "cell_type": "code",
   "execution_count": 106,
   "metadata": {},
   "outputs": [],
   "source": [
    "import warnings\n",
    "warnings.filterwarnings(\"ignore\")\n"
   ]
  },
  {
   "cell_type": "code",
   "execution_count": 107,
   "metadata": {},
   "outputs": [],
   "source": [
    "train = pd.read_csv(\"train.csv\")"
   ]
  },
  {
   "cell_type": "code",
   "execution_count": 108,
   "metadata": {},
   "outputs": [],
   "source": [
    "test = pd.read_csv(\"test.csv\")"
   ]
  },
  {
   "cell_type": "code",
   "execution_count": 109,
   "metadata": {
    "scrolled": true
   },
   "outputs": [
    {
     "data": {
      "text/html": [
       "<div>\n",
       "<style scoped>\n",
       "    .dataframe tbody tr th:only-of-type {\n",
       "        vertical-align: middle;\n",
       "    }\n",
       "\n",
       "    .dataframe tbody tr th {\n",
       "        vertical-align: top;\n",
       "    }\n",
       "\n",
       "    .dataframe thead th {\n",
       "        text-align: right;\n",
       "    }\n",
       "</style>\n",
       "<table border=\"1\" class=\"dataframe\">\n",
       "  <thead>\n",
       "    <tr style=\"text-align: right;\">\n",
       "      <th></th>\n",
       "      <th>PassengerId</th>\n",
       "      <th>Survived</th>\n",
       "      <th>Pclass</th>\n",
       "      <th>Name</th>\n",
       "      <th>Sex</th>\n",
       "      <th>Age</th>\n",
       "      <th>SibSp</th>\n",
       "      <th>Parch</th>\n",
       "      <th>Ticket</th>\n",
       "      <th>Fare</th>\n",
       "      <th>Cabin</th>\n",
       "      <th>Embarked</th>\n",
       "    </tr>\n",
       "  </thead>\n",
       "  <tbody>\n",
       "    <tr>\n",
       "      <th>0</th>\n",
       "      <td>1</td>\n",
       "      <td>0</td>\n",
       "      <td>3</td>\n",
       "      <td>Braund, Mr. Owen Harris</td>\n",
       "      <td>male</td>\n",
       "      <td>22.0</td>\n",
       "      <td>1</td>\n",
       "      <td>0</td>\n",
       "      <td>A/5 21171</td>\n",
       "      <td>7.2500</td>\n",
       "      <td>NaN</td>\n",
       "      <td>S</td>\n",
       "    </tr>\n",
       "    <tr>\n",
       "      <th>1</th>\n",
       "      <td>2</td>\n",
       "      <td>1</td>\n",
       "      <td>1</td>\n",
       "      <td>Cumings, Mrs. John Bradley (Florence Briggs Th...</td>\n",
       "      <td>female</td>\n",
       "      <td>38.0</td>\n",
       "      <td>1</td>\n",
       "      <td>0</td>\n",
       "      <td>PC 17599</td>\n",
       "      <td>71.2833</td>\n",
       "      <td>C85</td>\n",
       "      <td>C</td>\n",
       "    </tr>\n",
       "    <tr>\n",
       "      <th>2</th>\n",
       "      <td>3</td>\n",
       "      <td>1</td>\n",
       "      <td>3</td>\n",
       "      <td>Heikkinen, Miss. Laina</td>\n",
       "      <td>female</td>\n",
       "      <td>26.0</td>\n",
       "      <td>0</td>\n",
       "      <td>0</td>\n",
       "      <td>STON/O2. 3101282</td>\n",
       "      <td>7.9250</td>\n",
       "      <td>NaN</td>\n",
       "      <td>S</td>\n",
       "    </tr>\n",
       "    <tr>\n",
       "      <th>3</th>\n",
       "      <td>4</td>\n",
       "      <td>1</td>\n",
       "      <td>1</td>\n",
       "      <td>Futrelle, Mrs. Jacques Heath (Lily May Peel)</td>\n",
       "      <td>female</td>\n",
       "      <td>35.0</td>\n",
       "      <td>1</td>\n",
       "      <td>0</td>\n",
       "      <td>113803</td>\n",
       "      <td>53.1000</td>\n",
       "      <td>C123</td>\n",
       "      <td>S</td>\n",
       "    </tr>\n",
       "    <tr>\n",
       "      <th>4</th>\n",
       "      <td>5</td>\n",
       "      <td>0</td>\n",
       "      <td>3</td>\n",
       "      <td>Allen, Mr. William Henry</td>\n",
       "      <td>male</td>\n",
       "      <td>35.0</td>\n",
       "      <td>0</td>\n",
       "      <td>0</td>\n",
       "      <td>373450</td>\n",
       "      <td>8.0500</td>\n",
       "      <td>NaN</td>\n",
       "      <td>S</td>\n",
       "    </tr>\n",
       "    <tr>\n",
       "      <th>...</th>\n",
       "      <td>...</td>\n",
       "      <td>...</td>\n",
       "      <td>...</td>\n",
       "      <td>...</td>\n",
       "      <td>...</td>\n",
       "      <td>...</td>\n",
       "      <td>...</td>\n",
       "      <td>...</td>\n",
       "      <td>...</td>\n",
       "      <td>...</td>\n",
       "      <td>...</td>\n",
       "      <td>...</td>\n",
       "    </tr>\n",
       "    <tr>\n",
       "      <th>886</th>\n",
       "      <td>887</td>\n",
       "      <td>0</td>\n",
       "      <td>2</td>\n",
       "      <td>Montvila, Rev. Juozas</td>\n",
       "      <td>male</td>\n",
       "      <td>27.0</td>\n",
       "      <td>0</td>\n",
       "      <td>0</td>\n",
       "      <td>211536</td>\n",
       "      <td>13.0000</td>\n",
       "      <td>NaN</td>\n",
       "      <td>S</td>\n",
       "    </tr>\n",
       "    <tr>\n",
       "      <th>887</th>\n",
       "      <td>888</td>\n",
       "      <td>1</td>\n",
       "      <td>1</td>\n",
       "      <td>Graham, Miss. Margaret Edith</td>\n",
       "      <td>female</td>\n",
       "      <td>19.0</td>\n",
       "      <td>0</td>\n",
       "      <td>0</td>\n",
       "      <td>112053</td>\n",
       "      <td>30.0000</td>\n",
       "      <td>B42</td>\n",
       "      <td>S</td>\n",
       "    </tr>\n",
       "    <tr>\n",
       "      <th>888</th>\n",
       "      <td>889</td>\n",
       "      <td>0</td>\n",
       "      <td>3</td>\n",
       "      <td>Johnston, Miss. Catherine Helen \"Carrie\"</td>\n",
       "      <td>female</td>\n",
       "      <td>NaN</td>\n",
       "      <td>1</td>\n",
       "      <td>2</td>\n",
       "      <td>W./C. 6607</td>\n",
       "      <td>23.4500</td>\n",
       "      <td>NaN</td>\n",
       "      <td>S</td>\n",
       "    </tr>\n",
       "    <tr>\n",
       "      <th>889</th>\n",
       "      <td>890</td>\n",
       "      <td>1</td>\n",
       "      <td>1</td>\n",
       "      <td>Behr, Mr. Karl Howell</td>\n",
       "      <td>male</td>\n",
       "      <td>26.0</td>\n",
       "      <td>0</td>\n",
       "      <td>0</td>\n",
       "      <td>111369</td>\n",
       "      <td>30.0000</td>\n",
       "      <td>C148</td>\n",
       "      <td>C</td>\n",
       "    </tr>\n",
       "    <tr>\n",
       "      <th>890</th>\n",
       "      <td>891</td>\n",
       "      <td>0</td>\n",
       "      <td>3</td>\n",
       "      <td>Dooley, Mr. Patrick</td>\n",
       "      <td>male</td>\n",
       "      <td>32.0</td>\n",
       "      <td>0</td>\n",
       "      <td>0</td>\n",
       "      <td>370376</td>\n",
       "      <td>7.7500</td>\n",
       "      <td>NaN</td>\n",
       "      <td>Q</td>\n",
       "    </tr>\n",
       "  </tbody>\n",
       "</table>\n",
       "<p>891 rows × 12 columns</p>\n",
       "</div>"
      ],
      "text/plain": [
       "     PassengerId  Survived  Pclass  \\\n",
       "0              1         0       3   \n",
       "1              2         1       1   \n",
       "2              3         1       3   \n",
       "3              4         1       1   \n",
       "4              5         0       3   \n",
       "..           ...       ...     ...   \n",
       "886          887         0       2   \n",
       "887          888         1       1   \n",
       "888          889         0       3   \n",
       "889          890         1       1   \n",
       "890          891         0       3   \n",
       "\n",
       "                                                  Name     Sex   Age  SibSp  \\\n",
       "0                              Braund, Mr. Owen Harris    male  22.0      1   \n",
       "1    Cumings, Mrs. John Bradley (Florence Briggs Th...  female  38.0      1   \n",
       "2                               Heikkinen, Miss. Laina  female  26.0      0   \n",
       "3         Futrelle, Mrs. Jacques Heath (Lily May Peel)  female  35.0      1   \n",
       "4                             Allen, Mr. William Henry    male  35.0      0   \n",
       "..                                                 ...     ...   ...    ...   \n",
       "886                              Montvila, Rev. Juozas    male  27.0      0   \n",
       "887                       Graham, Miss. Margaret Edith  female  19.0      0   \n",
       "888           Johnston, Miss. Catherine Helen \"Carrie\"  female   NaN      1   \n",
       "889                              Behr, Mr. Karl Howell    male  26.0      0   \n",
       "890                                Dooley, Mr. Patrick    male  32.0      0   \n",
       "\n",
       "     Parch            Ticket     Fare Cabin Embarked  \n",
       "0        0         A/5 21171   7.2500   NaN        S  \n",
       "1        0          PC 17599  71.2833   C85        C  \n",
       "2        0  STON/O2. 3101282   7.9250   NaN        S  \n",
       "3        0            113803  53.1000  C123        S  \n",
       "4        0            373450   8.0500   NaN        S  \n",
       "..     ...               ...      ...   ...      ...  \n",
       "886      0            211536  13.0000   NaN        S  \n",
       "887      0            112053  30.0000   B42        S  \n",
       "888      2        W./C. 6607  23.4500   NaN        S  \n",
       "889      0            111369  30.0000  C148        C  \n",
       "890      0            370376   7.7500   NaN        Q  \n",
       "\n",
       "[891 rows x 12 columns]"
      ]
     },
     "execution_count": 109,
     "metadata": {},
     "output_type": "execute_result"
    }
   ],
   "source": [
    "train"
   ]
  },
  {
   "cell_type": "markdown",
   "metadata": {},
   "source": [
    "# Q1"
   ]
  },
  {
   "cell_type": "code",
   "execution_count": 110,
   "metadata": {
    "scrolled": false
   },
   "outputs": [
    {
     "name": "stdout",
     "output_type": "stream",
     "text": [
      "PassengerId\n",
      "Survived\n",
      "Pclass\n",
      "Name\n",
      "Sex\n",
      "Age\n",
      "SibSp\n",
      "Parch\n",
      "Ticket\n",
      "Fare\n",
      "Cabin\n",
      "Embarked\n"
     ]
    }
   ],
   "source": [
    "for i in train.columns:\n",
    "    print(i)"
   ]
  },
  {
   "cell_type": "markdown",
   "metadata": {},
   "source": [
    "# Q2 and Q3 and Q4"
   ]
  },
  {
   "cell_type": "code",
   "execution_count": 111,
   "metadata": {},
   "outputs": [
    {
     "data": {
      "text/plain": [
       "PassengerId      int64\n",
       "Survived         int64\n",
       "Pclass           int64\n",
       "Name            object\n",
       "Sex             object\n",
       "Age            float64\n",
       "SibSp            int64\n",
       "Parch            int64\n",
       "Ticket          object\n",
       "Fare           float64\n",
       "Cabin           object\n",
       "Embarked        object\n",
       "dtype: object"
      ]
     },
     "execution_count": 111,
     "metadata": {},
     "output_type": "execute_result"
    }
   ],
   "source": [
    "train.dtypes"
   ]
  },
  {
   "cell_type": "code",
   "execution_count": null,
   "metadata": {},
   "outputs": [],
   "source": []
  },
  {
   "cell_type": "code",
   "execution_count": null,
   "metadata": {},
   "outputs": [],
   "source": []
  },
  {
   "cell_type": "code",
   "execution_count": null,
   "metadata": {},
   "outputs": [],
   "source": []
  },
  {
   "cell_type": "markdown",
   "metadata": {},
   "source": [
    "# Q5"
   ]
  },
  {
   "cell_type": "code",
   "execution_count": 112,
   "metadata": {
    "scrolled": false
   },
   "outputs": [
    {
     "name": "stdout",
     "output_type": "stream",
     "text": [
      "False\n",
      "False\n",
      "False\n",
      "False\n",
      "False\n",
      "True\n",
      "False\n",
      "False\n",
      "False\n",
      "False\n",
      "True\n",
      "True\n"
     ]
    }
   ],
   "source": [
    "for i in train.columns:\n",
    "    print(train[i].isnull().values.any())"
   ]
  },
  {
   "cell_type": "code",
   "execution_count": null,
   "metadata": {},
   "outputs": [],
   "source": []
  },
  {
   "cell_type": "markdown",
   "metadata": {},
   "source": [
    "# Q6"
   ]
  },
  {
   "cell_type": "code",
   "execution_count": 113,
   "metadata": {
    "scrolled": true
   },
   "outputs": [
    {
     "data": {
      "text/plain": [
       "PassengerId      int64\n",
       "Survived         int64\n",
       "Pclass           int64\n",
       "Name            object\n",
       "Sex             object\n",
       "Age            float64\n",
       "SibSp            int64\n",
       "Parch            int64\n",
       "Ticket          object\n",
       "Fare           float64\n",
       "Cabin           object\n",
       "Embarked        object\n",
       "dtype: object"
      ]
     },
     "execution_count": 113,
     "metadata": {},
     "output_type": "execute_result"
    }
   ],
   "source": [
    "train.dtypes"
   ]
  },
  {
   "cell_type": "code",
   "execution_count": null,
   "metadata": {},
   "outputs": [],
   "source": []
  },
  {
   "cell_type": "markdown",
   "metadata": {},
   "source": [
    "# Q7"
   ]
  },
  {
   "cell_type": "code",
   "execution_count": 114,
   "metadata": {
    "scrolled": true
   },
   "outputs": [
    {
     "data": {
      "text/html": [
       "<div>\n",
       "<style scoped>\n",
       "    .dataframe tbody tr th:only-of-type {\n",
       "        vertical-align: middle;\n",
       "    }\n",
       "\n",
       "    .dataframe tbody tr th {\n",
       "        vertical-align: top;\n",
       "    }\n",
       "\n",
       "    .dataframe thead th {\n",
       "        text-align: right;\n",
       "    }\n",
       "</style>\n",
       "<table border=\"1\" class=\"dataframe\">\n",
       "  <thead>\n",
       "    <tr style=\"text-align: right;\">\n",
       "      <th></th>\n",
       "      <th>PassengerId</th>\n",
       "      <th>Survived</th>\n",
       "      <th>Pclass</th>\n",
       "      <th>Age</th>\n",
       "      <th>SibSp</th>\n",
       "      <th>Parch</th>\n",
       "      <th>Fare</th>\n",
       "    </tr>\n",
       "  </thead>\n",
       "  <tbody>\n",
       "    <tr>\n",
       "      <th>count</th>\n",
       "      <td>891.000000</td>\n",
       "      <td>891.000000</td>\n",
       "      <td>891.000000</td>\n",
       "      <td>714.000000</td>\n",
       "      <td>891.000000</td>\n",
       "      <td>891.000000</td>\n",
       "      <td>891.000000</td>\n",
       "    </tr>\n",
       "    <tr>\n",
       "      <th>mean</th>\n",
       "      <td>446.000000</td>\n",
       "      <td>0.383838</td>\n",
       "      <td>2.308642</td>\n",
       "      <td>29.699118</td>\n",
       "      <td>0.523008</td>\n",
       "      <td>0.381594</td>\n",
       "      <td>32.204208</td>\n",
       "    </tr>\n",
       "    <tr>\n",
       "      <th>std</th>\n",
       "      <td>257.353842</td>\n",
       "      <td>0.486592</td>\n",
       "      <td>0.836071</td>\n",
       "      <td>14.526497</td>\n",
       "      <td>1.102743</td>\n",
       "      <td>0.806057</td>\n",
       "      <td>49.693429</td>\n",
       "    </tr>\n",
       "    <tr>\n",
       "      <th>min</th>\n",
       "      <td>1.000000</td>\n",
       "      <td>0.000000</td>\n",
       "      <td>1.000000</td>\n",
       "      <td>0.420000</td>\n",
       "      <td>0.000000</td>\n",
       "      <td>0.000000</td>\n",
       "      <td>0.000000</td>\n",
       "    </tr>\n",
       "    <tr>\n",
       "      <th>25%</th>\n",
       "      <td>223.500000</td>\n",
       "      <td>0.000000</td>\n",
       "      <td>2.000000</td>\n",
       "      <td>20.125000</td>\n",
       "      <td>0.000000</td>\n",
       "      <td>0.000000</td>\n",
       "      <td>7.910400</td>\n",
       "    </tr>\n",
       "    <tr>\n",
       "      <th>50%</th>\n",
       "      <td>446.000000</td>\n",
       "      <td>0.000000</td>\n",
       "      <td>3.000000</td>\n",
       "      <td>28.000000</td>\n",
       "      <td>0.000000</td>\n",
       "      <td>0.000000</td>\n",
       "      <td>14.454200</td>\n",
       "    </tr>\n",
       "    <tr>\n",
       "      <th>75%</th>\n",
       "      <td>668.500000</td>\n",
       "      <td>1.000000</td>\n",
       "      <td>3.000000</td>\n",
       "      <td>38.000000</td>\n",
       "      <td>1.000000</td>\n",
       "      <td>0.000000</td>\n",
       "      <td>31.000000</td>\n",
       "    </tr>\n",
       "    <tr>\n",
       "      <th>max</th>\n",
       "      <td>891.000000</td>\n",
       "      <td>1.000000</td>\n",
       "      <td>3.000000</td>\n",
       "      <td>80.000000</td>\n",
       "      <td>8.000000</td>\n",
       "      <td>6.000000</td>\n",
       "      <td>512.329200</td>\n",
       "    </tr>\n",
       "  </tbody>\n",
       "</table>\n",
       "</div>"
      ],
      "text/plain": [
       "       PassengerId    Survived      Pclass         Age       SibSp  \\\n",
       "count   891.000000  891.000000  891.000000  714.000000  891.000000   \n",
       "mean    446.000000    0.383838    2.308642   29.699118    0.523008   \n",
       "std     257.353842    0.486592    0.836071   14.526497    1.102743   \n",
       "min       1.000000    0.000000    1.000000    0.420000    0.000000   \n",
       "25%     223.500000    0.000000    2.000000   20.125000    0.000000   \n",
       "50%     446.000000    0.000000    3.000000   28.000000    0.000000   \n",
       "75%     668.500000    1.000000    3.000000   38.000000    1.000000   \n",
       "max     891.000000    1.000000    3.000000   80.000000    8.000000   \n",
       "\n",
       "            Parch        Fare  \n",
       "count  891.000000  891.000000  \n",
       "mean     0.381594   32.204208  \n",
       "std      0.806057   49.693429  \n",
       "min      0.000000    0.000000  \n",
       "25%      0.000000    7.910400  \n",
       "50%      0.000000   14.454200  \n",
       "75%      0.000000   31.000000  \n",
       "max      6.000000  512.329200  "
      ]
     },
     "execution_count": 114,
     "metadata": {},
     "output_type": "execute_result"
    }
   ],
   "source": [
    "train.describe()"
   ]
  },
  {
   "cell_type": "code",
   "execution_count": null,
   "metadata": {},
   "outputs": [],
   "source": []
  },
  {
   "cell_type": "markdown",
   "metadata": {},
   "source": [
    "# Q8"
   ]
  },
  {
   "cell_type": "code",
   "execution_count": 115,
   "metadata": {},
   "outputs": [
    {
     "data": {
      "text/plain": [
       "count                       891\n",
       "unique                      891\n",
       "top       Greenberg, Mr. Samuel\n",
       "freq                          1\n",
       "Name: Name, dtype: object"
      ]
     },
     "execution_count": 115,
     "metadata": {},
     "output_type": "execute_result"
    }
   ],
   "source": [
    "train['Name'].describe()"
   ]
  },
  {
   "cell_type": "code",
   "execution_count": 116,
   "metadata": {},
   "outputs": [
    {
     "data": {
      "text/plain": [
       "count      891\n",
       "unique       2\n",
       "top       male\n",
       "freq       577\n",
       "Name: Sex, dtype: object"
      ]
     },
     "execution_count": 116,
     "metadata": {},
     "output_type": "execute_result"
    }
   ],
   "source": [
    "train['Sex'].describe()"
   ]
  },
  {
   "cell_type": "code",
   "execution_count": 117,
   "metadata": {},
   "outputs": [
    {
     "data": {
      "text/plain": [
       "count        891\n",
       "unique       681\n",
       "top       347082\n",
       "freq           7\n",
       "Name: Ticket, dtype: object"
      ]
     },
     "execution_count": 117,
     "metadata": {},
     "output_type": "execute_result"
    }
   ],
   "source": [
    "train['Ticket'].describe()"
   ]
  },
  {
   "cell_type": "code",
   "execution_count": 118,
   "metadata": {},
   "outputs": [
    {
     "data": {
      "text/plain": [
       "count         204\n",
       "unique        147\n",
       "top       B96 B98\n",
       "freq            4\n",
       "Name: Cabin, dtype: object"
      ]
     },
     "execution_count": 118,
     "metadata": {},
     "output_type": "execute_result"
    }
   ],
   "source": [
    "train['Cabin'].describe()"
   ]
  },
  {
   "cell_type": "code",
   "execution_count": 119,
   "metadata": {
    "scrolled": true
   },
   "outputs": [
    {
     "data": {
      "text/plain": [
       "count     889\n",
       "unique      3\n",
       "top         S\n",
       "freq      644\n",
       "Name: Embarked, dtype: object"
      ]
     },
     "execution_count": 119,
     "metadata": {},
     "output_type": "execute_result"
    }
   ],
   "source": [
    "train['Embarked'].describe()"
   ]
  },
  {
   "cell_type": "code",
   "execution_count": null,
   "metadata": {},
   "outputs": [],
   "source": []
  },
  {
   "cell_type": "markdown",
   "metadata": {},
   "source": [
    "# Q9"
   ]
  },
  {
   "cell_type": "code",
   "execution_count": 120,
   "metadata": {
    "scrolled": true
   },
   "outputs": [
    {
     "data": {
      "text/html": [
       "<div>\n",
       "<style scoped>\n",
       "    .dataframe tbody tr th:only-of-type {\n",
       "        vertical-align: middle;\n",
       "    }\n",
       "\n",
       "    .dataframe tbody tr th {\n",
       "        vertical-align: top;\n",
       "    }\n",
       "\n",
       "    .dataframe thead th {\n",
       "        text-align: right;\n",
       "    }\n",
       "</style>\n",
       "<table border=\"1\" class=\"dataframe\">\n",
       "  <thead>\n",
       "    <tr style=\"text-align: right;\">\n",
       "      <th></th>\n",
       "      <th>PassengerId</th>\n",
       "      <th>Survived</th>\n",
       "      <th>Pclass</th>\n",
       "      <th>Age</th>\n",
       "      <th>SibSp</th>\n",
       "      <th>Parch</th>\n",
       "      <th>Fare</th>\n",
       "    </tr>\n",
       "  </thead>\n",
       "  <tbody>\n",
       "    <tr>\n",
       "      <th>PassengerId</th>\n",
       "      <td>1.000000</td>\n",
       "      <td>-0.005007</td>\n",
       "      <td>-0.035144</td>\n",
       "      <td>0.036847</td>\n",
       "      <td>-0.057527</td>\n",
       "      <td>-0.001652</td>\n",
       "      <td>0.012658</td>\n",
       "    </tr>\n",
       "    <tr>\n",
       "      <th>Survived</th>\n",
       "      <td>-0.005007</td>\n",
       "      <td>1.000000</td>\n",
       "      <td>-0.338481</td>\n",
       "      <td>-0.077221</td>\n",
       "      <td>-0.035322</td>\n",
       "      <td>0.081629</td>\n",
       "      <td>0.257307</td>\n",
       "    </tr>\n",
       "    <tr>\n",
       "      <th>Pclass</th>\n",
       "      <td>-0.035144</td>\n",
       "      <td>-0.338481</td>\n",
       "      <td>1.000000</td>\n",
       "      <td>-0.369226</td>\n",
       "      <td>0.083081</td>\n",
       "      <td>0.018443</td>\n",
       "      <td>-0.549500</td>\n",
       "    </tr>\n",
       "    <tr>\n",
       "      <th>Age</th>\n",
       "      <td>0.036847</td>\n",
       "      <td>-0.077221</td>\n",
       "      <td>-0.369226</td>\n",
       "      <td>1.000000</td>\n",
       "      <td>-0.308247</td>\n",
       "      <td>-0.189119</td>\n",
       "      <td>0.096067</td>\n",
       "    </tr>\n",
       "    <tr>\n",
       "      <th>SibSp</th>\n",
       "      <td>-0.057527</td>\n",
       "      <td>-0.035322</td>\n",
       "      <td>0.083081</td>\n",
       "      <td>-0.308247</td>\n",
       "      <td>1.000000</td>\n",
       "      <td>0.414838</td>\n",
       "      <td>0.159651</td>\n",
       "    </tr>\n",
       "    <tr>\n",
       "      <th>Parch</th>\n",
       "      <td>-0.001652</td>\n",
       "      <td>0.081629</td>\n",
       "      <td>0.018443</td>\n",
       "      <td>-0.189119</td>\n",
       "      <td>0.414838</td>\n",
       "      <td>1.000000</td>\n",
       "      <td>0.216225</td>\n",
       "    </tr>\n",
       "    <tr>\n",
       "      <th>Fare</th>\n",
       "      <td>0.012658</td>\n",
       "      <td>0.257307</td>\n",
       "      <td>-0.549500</td>\n",
       "      <td>0.096067</td>\n",
       "      <td>0.159651</td>\n",
       "      <td>0.216225</td>\n",
       "      <td>1.000000</td>\n",
       "    </tr>\n",
       "  </tbody>\n",
       "</table>\n",
       "</div>"
      ],
      "text/plain": [
       "             PassengerId  Survived    Pclass       Age     SibSp     Parch  \\\n",
       "PassengerId     1.000000 -0.005007 -0.035144  0.036847 -0.057527 -0.001652   \n",
       "Survived       -0.005007  1.000000 -0.338481 -0.077221 -0.035322  0.081629   \n",
       "Pclass         -0.035144 -0.338481  1.000000 -0.369226  0.083081  0.018443   \n",
       "Age             0.036847 -0.077221 -0.369226  1.000000 -0.308247 -0.189119   \n",
       "SibSp          -0.057527 -0.035322  0.083081 -0.308247  1.000000  0.414838   \n",
       "Parch          -0.001652  0.081629  0.018443 -0.189119  0.414838  1.000000   \n",
       "Fare            0.012658  0.257307 -0.549500  0.096067  0.159651  0.216225   \n",
       "\n",
       "                 Fare  \n",
       "PassengerId  0.012658  \n",
       "Survived     0.257307  \n",
       "Pclass      -0.549500  \n",
       "Age          0.096067  \n",
       "SibSp        0.159651  \n",
       "Parch        0.216225  \n",
       "Fare         1.000000  "
      ]
     },
     "execution_count": 120,
     "metadata": {},
     "output_type": "execute_result"
    }
   ],
   "source": [
    "train.corr()"
   ]
  },
  {
   "cell_type": "code",
   "execution_count": 121,
   "metadata": {},
   "outputs": [],
   "source": [
    "q9_survived = train[train['Survived'] == 1]\n",
    "q9_notsurvived = train[train['Survived'] == 0]"
   ]
  },
  {
   "cell_type": "code",
   "execution_count": 122,
   "metadata": {},
   "outputs": [
    {
     "data": {
      "text/plain": [
       "<matplotlib.axes._subplots.AxesSubplot at 0x1a23727e50>"
      ]
     },
     "execution_count": 122,
     "metadata": {},
     "output_type": "execute_result"
    },
    {
     "data": {
      "image/png": "[encoded data removed]",
      "text/plain": [
       "<Figure size 432x288 with 1 Axes>"
      ]
     },
     "metadata": {
      "needs_background": "light"
     },
     "output_type": "display_data"
    }
   ],
   "source": [
    "q9_survived['Pclass'].hist()"
   ]
  },
  {
   "cell_type": "code",
   "execution_count": 123,
   "metadata": {},
   "outputs": [
    {
     "data": {
      "text/plain": [
       "<matplotlib.axes._subplots.AxesSubplot at 0x1203605d0>"
      ]
     },
     "execution_count": 123,
     "metadata": {},
     "output_type": "execute_result"
    },
    {
     "data": {
      "image/png": "[encoded data removed]",
      "text/plain": [
       "<Figure size 432x288 with 1 Axes>"
      ]
     },
     "metadata": {
      "needs_background": "light"
     },
     "output_type": "display_data"
    }
   ],
   "source": [
    "q9_notsurvived['Pclass'].hist()"
   ]
  },
  {
   "cell_type": "code",
   "execution_count": null,
   "metadata": {},
   "outputs": [],
   "source": []
  },
  {
   "cell_type": "code",
   "execution_count": null,
   "metadata": {},
   "outputs": [],
   "source": []
  },
  {
   "cell_type": "markdown",
   "metadata": {},
   "source": [
    "# Q10"
   ]
  },
  {
   "cell_type": "code",
   "execution_count": 124,
   "metadata": {},
   "outputs": [
    {
     "data": {
      "text/plain": [
       "male      577\n",
       "female    314\n",
       "Name: Sex, dtype: int64"
      ]
     },
     "execution_count": 124,
     "metadata": {},
     "output_type": "execute_result"
    }
   ],
   "source": [
    "train['Sex'].value_counts()"
   ]
  },
  {
   "cell_type": "code",
   "execution_count": 125,
   "metadata": {},
   "outputs": [
    {
     "data": {
      "text/plain": [
       "0.6475869809203143"
      ]
     },
     "execution_count": 125,
     "metadata": {},
     "output_type": "execute_result"
    }
   ],
   "source": [
    "577/(577+314)"
   ]
  },
  {
   "cell_type": "code",
   "execution_count": 126,
   "metadata": {},
   "outputs": [
    {
     "ename": "NameError",
     "evalue": "name 'q9' is not defined",
     "output_type": "error",
     "traceback": [
      "\u001b[0;31m---------------------------------------------------------------------------\u001b[0m",
      "\u001b[0;31mNameError\u001b[0m                                 Traceback (most recent call last)",
      "\u001b[0;32m<ipython-input-126-512298f9de7c>\u001b[0m in \u001b[0;36m<module>\u001b[0;34m\u001b[0m\n\u001b[0;32m----> 1\u001b[0;31m \u001b[0mq9\u001b[0m\u001b[0;34m[\u001b[0m\u001b[0;34m'Sex'\u001b[0m\u001b[0;34m]\u001b[0m\u001b[0;34m.\u001b[0m\u001b[0mvalue_counts\u001b[0m\u001b[0;34m(\u001b[0m\u001b[0;34m)\u001b[0m\u001b[0;34m\u001b[0m\u001b[0;34m\u001b[0m\u001b[0m\n\u001b[0m",
      "\u001b[0;31mNameError\u001b[0m: name 'q9' is not defined"
     ]
    }
   ],
   "source": [
    "q9['Sex'].value_counts()"
   ]
  },
  {
   "cell_type": "code",
   "execution_count": 127,
   "metadata": {},
   "outputs": [
    {
     "data": {
      "text/plain": [
       "0.31871345029239767"
      ]
     },
     "execution_count": 127,
     "metadata": {},
     "output_type": "execute_result"
    }
   ],
   "source": [
    "109/(233+109)"
   ]
  },
  {
   "cell_type": "code",
   "execution_count": 128,
   "metadata": {},
   "outputs": [
    {
     "data": {
      "text/plain": [
       "0.7420382165605095"
      ]
     },
     "execution_count": 128,
     "metadata": {},
     "output_type": "execute_result"
    }
   ],
   "source": [
    "233/314"
   ]
  },
  {
   "cell_type": "code",
   "execution_count": 129,
   "metadata": {},
   "outputs": [
    {
     "data": {
      "text/plain": [
       "0.18890814558058924"
      ]
     },
     "execution_count": 129,
     "metadata": {},
     "output_type": "execute_result"
    }
   ],
   "source": [
    "109/577"
   ]
  },
  {
   "cell_type": "code",
   "execution_count": null,
   "metadata": {},
   "outputs": [],
   "source": []
  },
  {
   "cell_type": "code",
   "execution_count": null,
   "metadata": {},
   "outputs": [],
   "source": []
  },
  {
   "cell_type": "markdown",
   "metadata": {},
   "source": [
    "# Q11"
   ]
  },
  {
   "cell_type": "code",
   "execution_count": 130,
   "metadata": {},
   "outputs": [],
   "source": [
    "q11_survived = train[train['Survived'] == 1]\n",
    "q11_notsurvived = train[train['Survived'] == 0]"
   ]
  },
  {
   "cell_type": "code",
   "execution_count": 131,
   "metadata": {},
   "outputs": [
    {
     "data": {
      "text/plain": [
       "<matplotlib.axes._subplots.AxesSubplot at 0x10c583a10>"
      ]
     },
     "execution_count": 131,
     "metadata": {},
     "output_type": "execute_result"
    },
    {
     "data": {
      "image/png": "[encoded data removed]",
      "text/plain": [
       "<Figure size 432x288 with 1 Axes>"
      ]
     },
     "metadata": {
      "needs_background": "light"
     },
     "output_type": "display_data"
    }
   ],
   "source": [
    "q11_survived['Age'].hist(bins=20)"
   ]
  },
  {
   "cell_type": "code",
   "execution_count": 132,
   "metadata": {},
   "outputs": [
    {
     "data": {
      "text/plain": [
       "<matplotlib.axes._subplots.AxesSubplot at 0x1204af510>"
      ]
     },
     "execution_count": 132,
     "metadata": {},
     "output_type": "execute_result"
    },
    {
     "data": {
      "image/png": "[encoded data removed]",
      "text/plain": [
       "<Figure size 432x288 with 1 Axes>"
      ]
     },
     "metadata": {
      "needs_background": "light"
     },
     "output_type": "display_data"
    }
   ],
   "source": [
    "q11_notsurvived['Age'].hist(bins=20)"
   ]
  },
  {
   "cell_type": "code",
   "execution_count": 133,
   "metadata": {},
   "outputs": [],
   "source": [
    "q11_infant = train[train['Age'] < 4]"
   ]
  },
  {
   "cell_type": "code",
   "execution_count": 134,
   "metadata": {
    "scrolled": true
   },
   "outputs": [
    {
     "data": {
      "text/plain": [
       "20"
      ]
     },
     "execution_count": 134,
     "metadata": {},
     "output_type": "execute_result"
    }
   ],
   "source": [
    "len(q11_infant[q11_infant['Survived'] == 1])"
   ]
  },
  {
   "cell_type": "code",
   "execution_count": 135,
   "metadata": {},
   "outputs": [
    {
     "data": {
      "text/plain": [
       "10"
      ]
     },
     "execution_count": 135,
     "metadata": {},
     "output_type": "execute_result"
    }
   ],
   "source": [
    "len(q11_infant[q11_infant['Survived'] == 0])"
   ]
  },
  {
   "cell_type": "code",
   "execution_count": 136,
   "metadata": {},
   "outputs": [
    {
     "data": {
      "text/plain": [
       "0.6666666666666666"
      ]
     },
     "execution_count": 136,
     "metadata": {},
     "output_type": "execute_result"
    }
   ],
   "source": [
    "20/30"
   ]
  },
  {
   "cell_type": "markdown",
   "metadata": {},
   "source": [
    "survival rate of infants = 0.66"
   ]
  },
  {
   "cell_type": "code",
   "execution_count": 137,
   "metadata": {},
   "outputs": [
    {
     "data": {
      "text/html": [
       "<div>\n",
       "<style scoped>\n",
       "    .dataframe tbody tr th:only-of-type {\n",
       "        vertical-align: middle;\n",
       "    }\n",
       "\n",
       "    .dataframe tbody tr th {\n",
       "        vertical-align: top;\n",
       "    }\n",
       "\n",
       "    .dataframe thead th {\n",
       "        text-align: right;\n",
       "    }\n",
       "</style>\n",
       "<table border=\"1\" class=\"dataframe\">\n",
       "  <thead>\n",
       "    <tr style=\"text-align: right;\">\n",
       "      <th></th>\n",
       "      <th>PassengerId</th>\n",
       "      <th>Survived</th>\n",
       "      <th>Pclass</th>\n",
       "      <th>Name</th>\n",
       "      <th>Sex</th>\n",
       "      <th>Age</th>\n",
       "      <th>SibSp</th>\n",
       "      <th>Parch</th>\n",
       "      <th>Ticket</th>\n",
       "      <th>Fare</th>\n",
       "      <th>Cabin</th>\n",
       "      <th>Embarked</th>\n",
       "    </tr>\n",
       "  </thead>\n",
       "  <tbody>\n",
       "    <tr>\n",
       "      <th>630</th>\n",
       "      <td>631</td>\n",
       "      <td>1</td>\n",
       "      <td>1</td>\n",
       "      <td>Barkworth, Mr. Algernon Henry Wilson</td>\n",
       "      <td>male</td>\n",
       "      <td>80.0</td>\n",
       "      <td>0</td>\n",
       "      <td>0</td>\n",
       "      <td>27042</td>\n",
       "      <td>30.0</td>\n",
       "      <td>A23</td>\n",
       "      <td>S</td>\n",
       "    </tr>\n",
       "  </tbody>\n",
       "</table>\n",
       "</div>"
      ],
      "text/plain": [
       "     PassengerId  Survived  Pclass                                  Name  \\\n",
       "630          631         1       1  Barkworth, Mr. Algernon Henry Wilson   \n",
       "\n",
       "      Sex   Age  SibSp  Parch Ticket  Fare Cabin Embarked  \n",
       "630  male  80.0      0      0  27042  30.0   A23        S  "
      ]
     },
     "execution_count": 137,
     "metadata": {},
     "output_type": "execute_result"
    }
   ],
   "source": [
    "train[train['Age'] >= 80]"
   ]
  },
  {
   "cell_type": "code",
   "execution_count": 138,
   "metadata": {},
   "outputs": [],
   "source": [
    "q11_middle = train[(train['Age'] > 15) & (train['Age'] < 25)]"
   ]
  },
  {
   "cell_type": "code",
   "execution_count": 139,
   "metadata": {},
   "outputs": [
    {
     "data": {
      "text/plain": [
       "0.35384615384615387"
      ]
     },
     "execution_count": 139,
     "metadata": {},
     "output_type": "execute_result"
    }
   ],
   "source": [
    "len(q11_middle[q11_middle['Survived'] == 1]) / len(q11_middle)"
   ]
  },
  {
   "cell_type": "code",
   "execution_count": null,
   "metadata": {},
   "outputs": [],
   "source": []
  },
  {
   "cell_type": "code",
   "execution_count": null,
   "metadata": {},
   "outputs": [],
   "source": []
  },
  {
   "cell_type": "markdown",
   "metadata": {},
   "source": [
    "# Q12"
   ]
  },
  {
   "cell_type": "code",
   "execution_count": 140,
   "metadata": {
    "scrolled": false
   },
   "outputs": [
    {
     "data": {
      "image/png": "[encoded data removed]",
      "text/plain": [
       "<Figure size 1080x720 with 6 Axes>"
      ]
     },
     "metadata": {
      "needs_background": "light"
     },
     "output_type": "display_data"
    }
   ],
   "source": [
    "fig, axs = plt.subplots(3, 2, figsize=(15,10))\n",
    "axs[0, 0].hist(train[(train['Pclass'] == 1) & (train['Survived'] == 0)]['Age'])\n",
    "axs[0, 0].set_title('Pclass=1 | Survived=0')\n",
    "axs[0, 1].hist(train[(train['Pclass'] == 1) & (train['Survived'] == 1)]['Age'])\n",
    "axs[0, 1].set_title('Pclass=1 | Survived=1')\n",
    "\n",
    "axs[1, 0].hist(train[(train['Pclass'] == 2) & (train['Survived'] == 0)]['Age'])\n",
    "axs[1, 0].set_title('Pclass=2 | Survived=0')\n",
    "axs[1, 1].hist(train[(train['Pclass'] == 2) & (train['Survived'] == 1)]['Age'])\n",
    "axs[1, 1].set_title('Pclass=2 | Survived=1')\n",
    "\n",
    "axs[2, 0].hist(train[(train['Pclass'] == 3) & (train['Survived'] == 0)]['Age'])\n",
    "axs[2, 0].set_title('Pclass=3 | Survived=0')\n",
    "axs[2, 1].hist(train[(train['Pclass'] == 3) & (train['Survived'] == 1)]['Age'])\n",
    "axs[2, 1].set_title('Pclass=3 | Survived=1')\n",
    "\n",
    "fig.tight_layout()"
   ]
  },
  {
   "cell_type": "code",
   "execution_count": null,
   "metadata": {},
   "outputs": [],
   "source": []
  },
  {
   "cell_type": "code",
   "execution_count": null,
   "metadata": {},
   "outputs": [],
   "source": []
  },
  {
   "cell_type": "markdown",
   "metadata": {},
   "source": [
    "# Q13"
   ]
  },
  {
   "cell_type": "code",
   "execution_count": 141,
   "metadata": {},
   "outputs": [
    {
     "data": {
      "image/png": "[encoded data removed]",
      "text/plain": [
       "<Figure size 1080x720 with 6 Axes>"
      ]
     },
     "metadata": {
      "needs_background": "light"
     },
     "output_type": "display_data"
    }
   ],
   "source": [
    "fig, axs = plt.subplots(3, 2, figsize=(15,10))\n",
    "\n",
    "train[(train['Embarked'] == \"S\") & (train['Survived'] == 0)]['Sex'].value_counts().plot(kind='bar', ax=axs[0,0])\n",
    "train[(train['Embarked'] == \"S\") & (train['Survived'] == 1)]['Sex'].value_counts().plot(kind='bar', ax=axs[0,1])\n",
    "axs[0,0].set_ylim(0,380)\n",
    "axs[0,1].set_ylim(0,380)\n",
    "axs[0, 0].set_title('Embarked=S | Survived=0')\n",
    "axs[0, 1].set_title('Embarked=S | Survived=1')\n",
    "\n",
    "train[(train['Embarked'] == \"C\") & (train['Survived'] == 0)]['Sex'].value_counts().plot(kind='bar', ax=axs[1,0])\n",
    "train[(train['Embarked'] == \"C\") & (train['Survived'] == 1)]['Sex'].value_counts().plot(kind='bar', ax=axs[1,1])\n",
    "axs[1,0].set_ylim(0,70)\n",
    "axs[1,1].set_ylim(0,70)\n",
    "axs[1, 0].set_title('Embarked=C | Survived=0')\n",
    "axs[1, 1].set_title('Embarked=C | Survived=1')\n",
    "\n",
    "train[(train['Embarked'] == \"Q\") & (train['Survived'] == 0)]['Sex'].value_counts().plot(kind='bar', ax=axs[2,0])\n",
    "train[(train['Embarked'] == \"Q\") & (train['Survived'] == 1)]['Sex'].value_counts().plot(kind='bar', ax=axs[2,1])\n",
    "axs[2,0].set_ylim(0,45)\n",
    "axs[2,1].set_ylim(0,45)\n",
    "axs[2, 0].set_title('Embarked=Q | Survived=0')\n",
    "axs[2, 1].set_title('Embarked=Q | Survived=1')\n",
    "\n",
    "plt.tight_layout()"
   ]
  },
  {
   "cell_type": "code",
   "execution_count": null,
   "metadata": {},
   "outputs": [],
   "source": []
  },
  {
   "cell_type": "code",
   "execution_count": null,
   "metadata": {},
   "outputs": [],
   "source": []
  },
  {
   "cell_type": "markdown",
   "metadata": {},
   "source": [
    "# Q14"
   ]
  },
  {
   "cell_type": "code",
   "execution_count": 142,
   "metadata": {},
   "outputs": [
    {
     "data": {
      "text/plain": [
       "347082      7\n",
       "CA. 2343    7\n",
       "1601        7\n",
       "CA 2144     6\n",
       "347088      6\n",
       "           ..\n",
       "7598        1\n",
       "2650        1\n",
       "28220       1\n",
       "248740      1\n",
       "237789      1\n",
       "Name: Ticket, Length: 681, dtype: int64"
      ]
     },
     "execution_count": 142,
     "metadata": {},
     "output_type": "execute_result"
    }
   ],
   "source": [
    "train['Ticket'].value_counts()"
   ]
  },
  {
   "cell_type": "code",
   "execution_count": null,
   "metadata": {},
   "outputs": [],
   "source": []
  },
  {
   "cell_type": "code",
   "execution_count": null,
   "metadata": {},
   "outputs": [],
   "source": []
  },
  {
   "cell_type": "code",
   "execution_count": null,
   "metadata": {},
   "outputs": [],
   "source": []
  },
  {
   "cell_type": "markdown",
   "metadata": {},
   "source": [
    "# Q15"
   ]
  },
  {
   "cell_type": "code",
   "execution_count": 143,
   "metadata": {},
   "outputs": [],
   "source": [
    "import numpy as np"
   ]
  },
  {
   "cell_type": "code",
   "execution_count": 144,
   "metadata": {},
   "outputs": [
    {
     "data": {
      "text/plain": [
       "687"
      ]
     },
     "execution_count": 144,
     "metadata": {},
     "output_type": "execute_result"
    }
   ],
   "source": [
    "np.count_nonzero(train['Cabin'].isnull().values == True)"
   ]
  },
  {
   "cell_type": "code",
   "execution_count": 145,
   "metadata": {},
   "outputs": [],
   "source": [
    "combine = train.append(test)"
   ]
  },
  {
   "cell_type": "code",
   "execution_count": 146,
   "metadata": {},
   "outputs": [
    {
     "data": {
      "text/plain": [
       "1014"
      ]
     },
     "execution_count": 146,
     "metadata": {},
     "output_type": "execute_result"
    }
   ],
   "source": [
    "np.count_nonzero(combine['Cabin'].isnull().values == True)"
   ]
  },
  {
   "cell_type": "markdown",
   "metadata": {},
   "source": [
    "# Q16"
   ]
  },
  {
   "cell_type": "code",
   "execution_count": 44,
   "metadata": {},
   "outputs": [],
   "source": [
    "train['Gender'] = 0"
   ]
  },
  {
   "cell_type": "code",
   "execution_count": 45,
   "metadata": {},
   "outputs": [],
   "source": [
    "males = train.loc[train['Sex'] == \"male\"].index"
   ]
  },
  {
   "cell_type": "code",
   "execution_count": 46,
   "metadata": {},
   "outputs": [],
   "source": [
    "females = train.loc[train['Sex'] == \"female\"].index"
   ]
  },
  {
   "cell_type": "code",
   "execution_count": 47,
   "metadata": {},
   "outputs": [],
   "source": [
    "for i in males:\n",
    "    train.loc[i,'Gender'] = 0"
   ]
  },
  {
   "cell_type": "code",
   "execution_count": 48,
   "metadata": {},
   "outputs": [],
   "source": [
    "for i in females:\n",
    "    train.loc[i,'Gender'] = 1"
   ]
  },
  {
   "cell_type": "code",
   "execution_count": null,
   "metadata": {},
   "outputs": [],
   "source": []
  },
  {
   "cell_type": "code",
   "execution_count": 147,
   "metadata": {},
   "outputs": [],
   "source": [
    "test['Gender'] = 0"
   ]
  },
  {
   "cell_type": "code",
   "execution_count": 148,
   "metadata": {},
   "outputs": [],
   "source": [
    "males = test.loc[test['Sex'] == \"male\"].index"
   ]
  },
  {
   "cell_type": "code",
   "execution_count": 149,
   "metadata": {},
   "outputs": [],
   "source": [
    "females = test.loc[test['Sex'] == \"female\"].index"
   ]
  },
  {
   "cell_type": "code",
   "execution_count": 150,
   "metadata": {},
   "outputs": [],
   "source": [
    "for i in males:\n",
    "    test.loc[i,'Gender'] = 0"
   ]
  },
  {
   "cell_type": "code",
   "execution_count": 151,
   "metadata": {},
   "outputs": [],
   "source": [
    "for i in females:\n",
    "    test.loc[i,'Gender'] = 1"
   ]
  },
  {
   "cell_type": "code",
   "execution_count": null,
   "metadata": {},
   "outputs": [],
   "source": []
  },
  {
   "cell_type": "markdown",
   "metadata": {},
   "source": [
    "# Q17"
   ]
  },
  {
   "cell_type": "code",
   "execution_count": 152,
   "metadata": {},
   "outputs": [],
   "source": [
    "x = train.Age.values"
   ]
  },
  {
   "cell_type": "code",
   "execution_count": 153,
   "metadata": {},
   "outputs": [],
   "source": [
    "xmean = train.Age.mean()"
   ]
  },
  {
   "cell_type": "code",
   "execution_count": 154,
   "metadata": {},
   "outputs": [],
   "source": [
    "xstd = train.Age.std()"
   ]
  },
  {
   "cell_type": "code",
   "execution_count": 155,
   "metadata": {},
   "outputs": [
    {
     "data": {
      "text/plain": [
       "(29.69911764705882, 14.526497332334044)"
      ]
     },
     "execution_count": 155,
     "metadata": {},
     "output_type": "execute_result"
    }
   ],
   "source": [
    "xmean, xstd"
   ]
  },
  {
   "cell_type": "code",
   "execution_count": 156,
   "metadata": {},
   "outputs": [],
   "source": [
    "for i in range(len(x)):\n",
    "    if np.isnan(x[i]):\n",
    "        x[i] = np.random.normal(xmean, xstd)"
   ]
  },
  {
   "cell_type": "code",
   "execution_count": 157,
   "metadata": {
    "scrolled": true
   },
   "outputs": [
    {
     "data": {
      "text/plain": [
       "array([22.        , 38.        , 26.        , 35.        , 35.        ,\n",
       "       38.34835265, 54.        ,  2.        , 27.        , 14.        ,\n",
       "        4.        , 58.        , 20.        , 39.        , 14.        ,\n",
       "       55.        ,  2.        , 21.48770249, 31.        , 10.7284028 ,\n",
       "       35.        , 34.        , 15.        , 28.        ,  8.        ,\n",
       "       38.        ,  1.50647521, 19.        , 11.46030433, 22.18608787,\n",
       "       40.        , 17.47144741,  5.93578378, 66.        , 28.        ,\n",
       "       42.        , 18.96586849, 21.        , 18.        , 14.        ,\n",
       "       40.        , 27.        , 40.79942206,  3.        , 19.        ,\n",
       "       33.22504801, 39.88757468, 40.0661902 , 16.89362851, 18.        ,\n",
       "        7.        , 21.        , 49.        , 29.        , 65.        ,\n",
       "       43.89415747, 21.        , 28.5       ,  5.        , 11.        ,\n",
       "       22.        , 38.        , 45.        ,  4.        , 46.87356992,\n",
       "       42.19950206, 29.        , 19.        , 17.        , 26.        ,\n",
       "       32.        , 16.        , 21.        , 26.        , 32.        ,\n",
       "       25.        , 28.81922419, 25.63668251,  0.83      , 30.        ,\n",
       "       22.        , 29.        , 15.55725235, 28.        , 17.        ,\n",
       "       33.        , 16.        , 31.23980175, 23.        , 24.        ,\n",
       "       29.        , 20.        , 46.        , 26.        , 59.        ,\n",
       "       30.4916766 , 71.        , 23.        , 34.        , 34.        ,\n",
       "       28.        , 25.31308407, 21.        , 33.        , 37.        ,\n",
       "       28.        , 21.        , 32.01261479, 38.        , 42.02413493,\n",
       "       47.        , 14.5       , 22.        , 20.        , 17.        ,\n",
       "       21.        , 70.5       , 29.        , 24.        ,  2.        ,\n",
       "       21.        , 10.66307508, 32.5       , 32.5       , 54.        ,\n",
       "       12.        , 36.64609916, 24.        ,  4.34707262, 45.        ,\n",
       "       33.        , 20.        , 47.        , 29.        , 25.        ,\n",
       "       23.        , 19.        , 37.        , 16.        , 24.        ,\n",
       "       64.93514127, 22.        , 24.        , 19.        , 18.        ,\n",
       "       19.        , 27.        ,  9.        , 36.5       , 42.        ,\n",
       "       51.        , 22.        , 55.5       , 40.5       , 40.06647304,\n",
       "       51.        , 16.        , 30.        , 17.22869747, 15.34307604,\n",
       "       44.        , 40.        , 26.        , 17.        ,  1.        ,\n",
       "        9.        , 29.55512596, 45.        , 67.74310708, 28.        ,\n",
       "       61.        ,  4.        ,  1.        , 21.        , 56.        ,\n",
       "       18.        , 15.41540028, 50.        , 30.        , 36.        ,\n",
       "       13.39023355, 31.24068609,  9.        ,  1.        ,  4.        ,\n",
       "       12.23282148, 29.73133766, 45.        , 40.        , 36.        ,\n",
       "       32.        , 19.        , 19.        ,  3.        , 44.        ,\n",
       "       58.        , 12.86637575, 42.        , 33.96583108, 24.        ,\n",
       "       28.        , 54.36362944, 34.        , 45.5       , 18.        ,\n",
       "        2.        , 32.        , 26.        , 16.        , 40.        ,\n",
       "       24.        , 35.        , 22.        , 30.        , 33.75842312,\n",
       "       31.        , 27.        , 42.        , 32.        , 30.        ,\n",
       "       16.        , 27.        , 51.        , 38.10137767, 38.        ,\n",
       "       22.        , 19.        , 20.5       , 18.        , 19.55498041,\n",
       "       35.        , 29.        , 59.        ,  5.        , 24.        ,\n",
       "       25.76691592, 44.        ,  8.        , 19.        , 33.        ,\n",
       "       39.24826755, 40.86008999, 29.        , 22.        , 30.        ,\n",
       "       44.        , 25.        , 24.        , 37.        , 54.        ,\n",
       "       11.11445375, 29.        , 62.        , 30.        , 41.        ,\n",
       "       29.        , 37.25683725, 30.        , 35.        , 50.        ,\n",
       "       43.41041979,  3.        , 52.        , 40.        , 31.98617164,\n",
       "       36.        , 16.        , 25.        , 58.        , 35.        ,\n",
       "       35.12845054, 25.        , 41.        , 37.        , 43.79286707,\n",
       "       63.        , 45.        , 24.11975226,  7.        , 35.        ,\n",
       "       65.        , 28.        , 16.        , 19.        , 19.90564328,\n",
       "       33.        , 30.        , 22.        , 42.        , 22.        ,\n",
       "       26.        , 19.        , 36.        , 24.        , 24.        ,\n",
       "       21.00184958, 23.5       ,  2.        , 24.76134102, 50.        ,\n",
       "       47.81696425, 40.41005123, 19.        , 18.26173151,  1.54885892,\n",
       "        0.92      , 21.07326925, 17.        , 30.        , 30.        ,\n",
       "       24.        , 18.        , 26.        , 28.        , 43.        ,\n",
       "       26.        , 24.        , 54.        , 31.        , 40.        ,\n",
       "       22.        , 27.        , 30.        , 22.        , 49.01143524,\n",
       "       36.        , 61.        , 36.        , 31.        , 16.        ,\n",
       "       32.80260713, 45.5       , 38.        , 16.        , 28.23595568,\n",
       "        2.33349427, 29.        , 41.        , 45.        , 45.        ,\n",
       "        2.        , 24.        , 28.        , 25.        , 36.        ,\n",
       "       24.        , 40.        , 27.06807042,  3.        , 42.        ,\n",
       "       23.        ,  3.20518908, 15.        , 25.        , 28.32282968,\n",
       "       28.        , 22.        , 38.        , 60.31422147, 27.17512482,\n",
       "       40.        , 29.        , 45.        , 35.        , 20.97539606,\n",
       "       30.        , 60.        , 30.18742823, -1.62176761, 24.        ,\n",
       "       25.        , 18.        , 19.        , 22.        ,  3.        ,\n",
       "       18.46013562, 22.        , 27.        , 20.        , 19.        ,\n",
       "       42.        ,  1.        , 32.        , 35.        , 19.48891695,\n",
       "       18.        ,  1.        , 36.        , 31.9709388 , 17.        ,\n",
       "       36.        , 21.        , 28.        , 23.        , 24.        ,\n",
       "       22.        , 31.        , 46.        , 23.        , 28.        ,\n",
       "       39.        , 26.        , 21.        , 28.        , 20.        ,\n",
       "       34.        , 51.        ,  3.        , 21.        , 32.3546296 ,\n",
       "       22.59414739,  4.20272039, 33.        , 30.07257027, 44.        ,\n",
       "       -2.98044658, 34.        , 18.        , 30.        , 10.        ,\n",
       "       28.20017256, 21.        , 29.        , 28.        , 18.        ,\n",
       "       22.74294646, 28.        , 19.        , 49.22378554, 32.        ,\n",
       "       28.        ,  2.44441575, 42.        , 17.        , 50.        ,\n",
       "       14.        , 21.        , 24.        , 64.        , 31.        ,\n",
       "       45.        , 20.        , 25.        , 28.        , 21.07002347,\n",
       "        4.        , 13.        , 34.        ,  5.        , 52.        ,\n",
       "       36.        , 15.56395136, 30.        , 49.        , 23.46629853,\n",
       "       29.        , 65.        ,  8.25314831, 50.        , 37.20153589,\n",
       "       48.        , 34.        , 47.        , 48.        , 41.82148719,\n",
       "       38.        , 47.39593349, 56.        , 31.01137655,  0.75      ,\n",
       "       39.56414438, 38.        , 33.        , 23.        , 22.        ,\n",
       "       22.67022254, 34.        , 29.        , 22.        ,  2.        ,\n",
       "        9.        , 37.65705257, 50.        , 63.        , 25.        ,\n",
       "       37.58968553, 35.        , 58.        , 30.        ,  9.        ,\n",
       "       33.3320174 , 21.        , 55.        , 71.        , 21.        ,\n",
       "       10.03238968, 54.        ,  4.74132835, 25.        , 24.        ,\n",
       "       17.        , 21.        ,  4.11813148, 37.        , 16.        ,\n",
       "       18.        , 33.        , 30.47068237, 28.        , 26.        ,\n",
       "       29.        , 24.52282355, 36.        , 54.        , 24.        ,\n",
       "       47.        , 34.        , 41.26457649, 36.        , 32.        ,\n",
       "       30.        , 22.        , 21.07729938, 44.        , 49.30006685,\n",
       "       40.5       , 50.        , 26.48061219, 39.        , 23.        ,\n",
       "        2.        , 28.66047867, 17.        , 28.19199121, 30.        ,\n",
       "        7.        , 45.        , 30.        , 22.81344146, 22.        ,\n",
       "       36.        ,  9.        , 11.        , 32.        , 50.        ,\n",
       "       64.        , 19.        , 14.25325557, 33.        ,  8.        ,\n",
       "       17.        , 27.        , 34.61569193, 22.        , 22.        ,\n",
       "       62.        , 48.        , 28.36378415, 39.        , 36.        ,\n",
       "       40.94264006, 40.        , 28.        , 43.42109485, 47.26283392,\n",
       "       24.        , 19.        , 29.        , 42.75910644, 32.        ,\n",
       "       62.        , 53.        , 36.        , 29.86054712, 16.        ,\n",
       "       19.        , 34.        , 39.        , 52.45320388, 32.        ,\n",
       "       25.        , 39.        , 54.        , 36.        , 23.59518671,\n",
       "       18.        , 47.        , 60.        , 22.        , 54.09419604,\n",
       "       35.        , 52.        , 47.        , 48.16833444, 37.        ,\n",
       "       36.        , 17.42871087, 49.        ,  0.87735586, 49.        ,\n",
       "       24.        ,  9.46438301, 27.18253295, 44.        , 35.        ,\n",
       "       36.        , 30.        , 27.        , 22.        , 40.        ,\n",
       "       39.        , 19.68126353, 16.01031326, 67.85390792, 35.        ,\n",
       "       24.        , 34.        , 26.        ,  4.        , 26.        ,\n",
       "       27.        , 42.        , 20.        , 21.        , 21.        ,\n",
       "       61.        , 57.        , 21.        , 26.        , 24.55504415,\n",
       "       80.        , 51.        , 32.        , 20.45452645,  9.        ,\n",
       "       28.        , 32.        , 31.        , 41.        , 58.63731262,\n",
       "       20.        , 24.        ,  2.        , 41.51733842,  0.75      ,\n",
       "       48.        , 19.        , 56.        , 38.56878558, 23.        ,\n",
       "       12.8638732 , 18.        , 21.        , 31.17527146, 18.        ,\n",
       "       24.        ,  6.8518117 , 32.        , 23.        , 58.        ,\n",
       "       50.        , 40.        , 47.        , 36.        , 20.        ,\n",
       "       32.        , 25.        , 49.68721747, 43.        , 24.97437881,\n",
       "       40.        , 31.        , 70.        , 31.        , 10.45596864,\n",
       "       18.        , 24.5       , 18.        , 43.        , 36.        ,\n",
       "       19.40005309, 27.        , 20.        , 14.        , 60.        ,\n",
       "       25.        , 14.        , 19.        , 18.        , 15.        ,\n",
       "       31.        ,  4.        , 24.43573361, 25.        , 60.        ,\n",
       "       52.        , 44.        , 59.56003755, 49.        , 42.        ,\n",
       "       18.        , 35.        , 18.        , 25.        , 26.        ,\n",
       "       39.        , 45.        , 42.        , 22.        , 12.21404551,\n",
       "       24.        , 28.4312505 , 48.        , 29.        , 52.        ,\n",
       "       19.        , 38.        , 27.        , 27.83062454, 33.        ,\n",
       "        6.        , 17.        , 34.        , 50.        , 27.        ,\n",
       "       20.        , 30.        , 34.53538663, 25.        , 25.        ,\n",
       "       29.        , 11.        , 33.38713759, 23.        , 23.        ,\n",
       "       28.5       , 48.        , 35.        , 30.21689397, 19.33804588,\n",
       "       33.78999759, 36.        , 21.        , 24.        , 31.        ,\n",
       "       70.        , 16.        , 30.        , 19.        , 31.        ,\n",
       "        4.        ,  6.        , 33.        , 23.        , 48.        ,\n",
       "        0.67      , 28.        , 18.        , 34.        , 33.        ,\n",
       "       49.07847205, 41.        , 20.        , 36.        , 16.        ,\n",
       "       51.        , 51.42964233, 30.5       , 10.09936763, 32.        ,\n",
       "       24.        , 48.        , 57.        , 19.46682644, 54.        ,\n",
       "       18.        , 17.55122327,  5.        ,  5.74529315, 43.        ,\n",
       "       13.        , 17.        , 29.        , 11.2059704 , 25.        ,\n",
       "       25.        , 18.        ,  8.        ,  1.        , 46.        ,\n",
       "       11.61357821, 16.        , 29.75543655, 28.04658077, 25.        ,\n",
       "       39.        , 49.        , 31.        , 30.        , 30.        ,\n",
       "       34.        , 31.        , 11.        ,  0.42      , 27.        ,\n",
       "       31.        , 39.        , 18.        , 39.        , 33.        ,\n",
       "       26.        , 39.        , 35.        ,  6.        , 30.5       ,\n",
       "       39.47732914, 23.        , 31.        , 43.        , 10.        ,\n",
       "       52.        , 27.        , 38.        , 27.        ,  2.        ,\n",
       "       37.18182506, 11.79581882,  1.        , 28.83527816, 62.        ,\n",
       "       15.        ,  0.83      , 35.71386659, 23.        , 18.        ,\n",
       "       39.        , 21.        , 31.49716681, 32.        , 26.49441276,\n",
       "       20.        , 16.        , 30.        , 34.5       , 17.        ,\n",
       "       42.        , 56.93540887, 35.        , 28.        , 22.51496494,\n",
       "        4.        , 74.        ,  9.        , 16.        , 44.        ,\n",
       "       18.        , 45.        , 51.        , 24.        , 16.88706734,\n",
       "       41.        , 21.        , 48.        , 27.87439379, 24.        ,\n",
       "       42.        , 27.        , 31.        , 49.13644186,  4.        ,\n",
       "       26.        , 47.        , 33.        , 47.        , 28.        ,\n",
       "       15.        , 20.        , 19.        ,  8.80585734, 56.        ,\n",
       "       25.        , 33.        , 22.        , 28.        , 25.        ,\n",
       "       39.        , 27.        , 19.        , 45.7584209 , 26.        ,\n",
       "       32.        ])"
      ]
     },
     "execution_count": 157,
     "metadata": {},
     "output_type": "execute_result"
    }
   ],
   "source": [
    "x"
   ]
  },
  {
   "cell_type": "code",
   "execution_count": null,
   "metadata": {},
   "outputs": [],
   "source": []
  },
  {
   "cell_type": "code",
   "execution_count": null,
   "metadata": {},
   "outputs": [],
   "source": []
  },
  {
   "cell_type": "code",
   "execution_count": 158,
   "metadata": {},
   "outputs": [],
   "source": [
    "x = test.Age.values"
   ]
  },
  {
   "cell_type": "code",
   "execution_count": 159,
   "metadata": {},
   "outputs": [],
   "source": [
    "xmean = test.Age.mean()"
   ]
  },
  {
   "cell_type": "code",
   "execution_count": 160,
   "metadata": {},
   "outputs": [],
   "source": [
    "xstd = test.Age.std()"
   ]
  },
  {
   "cell_type": "code",
   "execution_count": 161,
   "metadata": {},
   "outputs": [
    {
     "data": {
      "text/plain": [
       "(30.272590361445783, 14.18120923562442)"
      ]
     },
     "execution_count": 161,
     "metadata": {},
     "output_type": "execute_result"
    }
   ],
   "source": [
    "xmean, xstd"
   ]
  },
  {
   "cell_type": "code",
   "execution_count": 162,
   "metadata": {},
   "outputs": [],
   "source": [
    "for i in range(len(x)):\n",
    "    if np.isnan(x[i]):\n",
    "        x[i] = np.random.normal(xmean, xstd)"
   ]
  },
  {
   "cell_type": "code",
   "execution_count": 163,
   "metadata": {
    "scrolled": true
   },
   "outputs": [
    {
     "data": {
      "text/plain": [
       "array([ 34.5       ,  47.        ,  62.        ,  27.        ,\n",
       "        22.        ,  14.        ,  30.        ,  26.        ,\n",
       "        18.        ,  21.        ,  16.25521748,  46.        ,\n",
       "        23.        ,  63.        ,  47.        ,  24.        ,\n",
       "        35.        ,  21.        ,  27.        ,  45.        ,\n",
       "        55.        ,   9.        ,  11.91048315,  21.        ,\n",
       "        48.        ,  50.        ,  22.        ,  22.5       ,\n",
       "        41.        ,  48.14218427,  50.        ,  24.        ,\n",
       "        33.        ,  36.66097289,  30.        ,  18.5       ,\n",
       "        26.73260446,  21.        ,  25.        ,  47.61975663,\n",
       "        39.        ,  25.37193743,  41.        ,  30.        ,\n",
       "        45.        ,  25.        ,  45.        ,  27.68403284,\n",
       "        60.        ,  36.        ,  24.        ,  27.        ,\n",
       "        20.        ,  28.        ,   5.53587777,  10.        ,\n",
       "        35.        ,  25.        ,  44.68273092,  36.        ,\n",
       "        17.        ,  32.        ,  18.        ,  22.        ,\n",
       "        13.        ,   8.48908771,  18.        ,  47.        ,\n",
       "        31.        ,  60.        ,  24.        ,  21.        ,\n",
       "        29.        ,  28.5       ,  35.        ,  32.5       ,\n",
       "        17.43843614,  55.        ,  30.        ,  24.        ,\n",
       "         6.        ,  67.        ,  49.        ,  21.78927917,\n",
       "        34.28184792,  34.71956116,  27.        ,  18.        ,\n",
       "        14.05184836,   2.        ,  22.        ,  45.02068264,\n",
       "        27.        ,  42.72187591,  25.        ,  25.        ,\n",
       "        76.        ,  29.        ,  20.        ,  33.        ,\n",
       "        43.        ,  27.        ,  49.79889462,  26.        ,\n",
       "        16.        ,  28.        ,  21.        ,  30.77653799,\n",
       "        49.01907536,  18.5       ,  41.        ,  42.4973309 ,\n",
       "        36.        ,  18.5       ,  63.        ,  18.        ,\n",
       "        27.37438433,   1.        ,  36.        ,  29.        ,\n",
       "        12.        ,  41.2821895 ,  35.        ,  28.        ,\n",
       "        43.66979955,  17.        ,  22.        ,  16.79205617,\n",
       "        42.        ,  24.        ,  32.        ,  53.        ,\n",
       "        10.12085006,  45.06654067,  43.        ,  24.        ,\n",
       "        26.5       ,  26.        ,  23.        ,  40.        ,\n",
       "        10.        ,  33.        ,  61.        ,  28.        ,\n",
       "        42.        ,  31.        ,  23.44563932,  22.        ,\n",
       "        44.37202494,  30.        ,  23.        ,  26.61561275,\n",
       "        60.5       ,  36.        ,  13.        ,  24.        ,\n",
       "        29.        ,  23.        ,  42.        ,  26.        ,\n",
       "        53.56693379,   7.        ,  26.        ,  58.23973056,\n",
       "        41.        ,  26.        ,  48.        ,  18.        ,\n",
       "        64.20065719,  22.        ,  37.95079835,  27.        ,\n",
       "        23.        ,  19.28517929,  40.        ,  15.        ,\n",
       "        20.        ,  54.        ,  36.        ,  64.        ,\n",
       "        30.        ,  37.        ,  18.        ,  39.5673819 ,\n",
       "        27.        ,  40.        ,  21.        ,  17.        ,\n",
       "        27.23537756,  40.        ,  34.        ,  27.50773371,\n",
       "        11.5       ,  61.        ,   8.        ,  33.        ,\n",
       "         6.        ,  18.        ,  23.        ,  44.44113791,\n",
       "        46.04700716,   0.33      ,  47.        ,   8.        ,\n",
       "        25.        ,  49.18487306,  35.        ,  24.        ,\n",
       "        33.        ,  25.        ,  32.        ,  25.13452897,\n",
       "        17.        ,  60.        ,  38.        ,  42.        ,\n",
       "        16.76941064,  57.        ,  50.        ,  26.64868853,\n",
       "        30.        ,  21.        ,  22.        ,  21.        ,\n",
       "        53.        ,  18.03382796,  23.        ,  16.10222584,\n",
       "        40.5       ,  36.        ,  14.        ,  21.        ,\n",
       "        21.        ,  20.23255864,  39.        ,  20.        ,\n",
       "        64.        ,  20.        ,  18.        ,  48.        ,\n",
       "        55.        ,  45.        ,  45.        ,  20.95323985,\n",
       "        28.87550701,  41.        ,  22.        ,  42.        ,\n",
       "        29.        ,  31.344454  ,   0.92      ,  20.        ,\n",
       "        27.        ,  24.        ,  32.5       ,  35.94271238,\n",
       "        26.62715681,  28.        ,  19.        ,  21.        ,\n",
       "        36.5       ,  21.        ,  29.        ,   1.        ,\n",
       "        30.        ,  36.83861283,  28.27928332,   9.15897555,\n",
       "        23.08442874,  17.        ,  46.        ,  43.91792588,\n",
       "        26.        ,  35.01138948,  25.60200824,  20.        ,\n",
       "        28.        ,  40.        ,  30.        ,  22.        ,\n",
       "        23.        ,   0.75      ,  28.1651426 ,   9.        ,\n",
       "         2.        ,  36.        ,  38.33918057,  24.        ,\n",
       "        -1.4833803 ,  35.84967159,  15.89769628,  30.        ,\n",
       "        27.66669737,  53.        ,  36.        ,  26.        ,\n",
       "         1.        ,  10.47857481,  30.        ,  29.        ,\n",
       "        32.        ,  53.70689397,  43.        ,  24.        ,\n",
       "        19.48737511,  64.        ,  30.        ,   0.83      ,\n",
       "        55.        ,  45.        ,  18.        ,  22.        ,\n",
       "        52.6675622 ,  37.        ,  55.        ,  17.        ,\n",
       "        57.        ,  19.        ,  27.        ,  22.        ,\n",
       "        26.        ,  25.        ,  26.        ,  33.        ,\n",
       "        39.        ,  23.        ,  12.        ,  46.        ,\n",
       "        29.        ,  21.        ,  48.        ,  39.        ,\n",
       "        32.62072724,  19.        ,  27.        ,  30.        ,\n",
       "        32.        ,  39.        ,  25.        ,  12.94553159,\n",
       "        18.        ,  32.        ,  37.16352317,  58.        ,\n",
       "        14.23815134,  16.        ,  26.        ,  38.        ,\n",
       "        24.        ,  31.        ,  45.        ,  25.        ,\n",
       "        18.        ,  49.        ,   0.17      ,  50.        ,\n",
       "        59.        ,  54.45125518,  26.2460051 ,  30.        ,\n",
       "        14.5       ,  24.        ,  31.        ,  27.        ,\n",
       "        25.        ,  22.29171274,  28.85201165,  22.        ,\n",
       "        45.        ,  29.        ,  21.        ,  31.        ,\n",
       "        49.        ,  44.        ,  54.        ,  45.        ,\n",
       "        22.        ,  21.        ,  55.        ,   5.        ,\n",
       "        32.87413325,  26.        ,   9.52507696,  19.        ,\n",
       "         0.53737863,  24.        ,  24.        ,  57.        ,\n",
       "        21.        ,   6.        ,  23.        ,  51.        ,\n",
       "        13.        ,  47.        ,  29.        ,  18.        ,\n",
       "        24.        ,  48.        ,  22.        ,  31.        ,\n",
       "        30.        ,  38.        ,  22.        ,  17.        ,\n",
       "        43.        ,  20.        ,  23.        ,  50.        ,\n",
       "       -11.15879944,   3.        ,  19.14864589,  37.        ,\n",
       "        28.        ,  30.28223185,  39.        ,  38.5       ,\n",
       "        23.55995696,  29.16452014])"
      ]
     },
     "execution_count": 163,
     "metadata": {},
     "output_type": "execute_result"
    }
   ],
   "source": [
    "x"
   ]
  },
  {
   "cell_type": "markdown",
   "metadata": {},
   "source": [
    "# Q18"
   ]
  },
  {
   "cell_type": "code",
   "execution_count": 164,
   "metadata": {
    "scrolled": true
   },
   "outputs": [
    {
     "data": {
      "text/plain": [
       "S    644\n",
       "C    168\n",
       "Q     77\n",
       "Name: Embarked, dtype: int64"
      ]
     },
     "execution_count": 164,
     "metadata": {},
     "output_type": "execute_result"
    }
   ],
   "source": [
    "train['Embarked'].value_counts()"
   ]
  },
  {
   "cell_type": "code",
   "execution_count": 165,
   "metadata": {},
   "outputs": [
    {
     "data": {
      "text/html": [
       "<div>\n",
       "<style scoped>\n",
       "    .dataframe tbody tr th:only-of-type {\n",
       "        vertical-align: middle;\n",
       "    }\n",
       "\n",
       "    .dataframe tbody tr th {\n",
       "        vertical-align: top;\n",
       "    }\n",
       "\n",
       "    .dataframe thead th {\n",
       "        text-align: right;\n",
       "    }\n",
       "</style>\n",
       "<table border=\"1\" class=\"dataframe\">\n",
       "  <thead>\n",
       "    <tr style=\"text-align: right;\">\n",
       "      <th></th>\n",
       "      <th>PassengerId</th>\n",
       "      <th>Survived</th>\n",
       "      <th>Pclass</th>\n",
       "      <th>Name</th>\n",
       "      <th>Sex</th>\n",
       "      <th>Age</th>\n",
       "      <th>SibSp</th>\n",
       "      <th>Parch</th>\n",
       "      <th>Ticket</th>\n",
       "      <th>Fare</th>\n",
       "      <th>Cabin</th>\n",
       "      <th>Embarked</th>\n",
       "    </tr>\n",
       "  </thead>\n",
       "  <tbody>\n",
       "    <tr>\n",
       "      <th>61</th>\n",
       "      <td>62</td>\n",
       "      <td>1</td>\n",
       "      <td>1</td>\n",
       "      <td>Icard, Miss. Amelie</td>\n",
       "      <td>female</td>\n",
       "      <td>38.0</td>\n",
       "      <td>0</td>\n",
       "      <td>0</td>\n",
       "      <td>113572</td>\n",
       "      <td>80.0</td>\n",
       "      <td>B28</td>\n",
       "      <td>NaN</td>\n",
       "    </tr>\n",
       "    <tr>\n",
       "      <th>829</th>\n",
       "      <td>830</td>\n",
       "      <td>1</td>\n",
       "      <td>1</td>\n",
       "      <td>Stone, Mrs. George Nelson (Martha Evelyn)</td>\n",
       "      <td>female</td>\n",
       "      <td>62.0</td>\n",
       "      <td>0</td>\n",
       "      <td>0</td>\n",
       "      <td>113572</td>\n",
       "      <td>80.0</td>\n",
       "      <td>B28</td>\n",
       "      <td>NaN</td>\n",
       "    </tr>\n",
       "  </tbody>\n",
       "</table>\n",
       "</div>"
      ],
      "text/plain": [
       "     PassengerId  Survived  Pclass                                       Name  \\\n",
       "61            62         1       1                        Icard, Miss. Amelie   \n",
       "829          830         1       1  Stone, Mrs. George Nelson (Martha Evelyn)   \n",
       "\n",
       "        Sex   Age  SibSp  Parch  Ticket  Fare Cabin Embarked  \n",
       "61   female  38.0      0      0  113572  80.0   B28      NaN  \n",
       "829  female  62.0      0      0  113572  80.0   B28      NaN  "
      ]
     },
     "execution_count": 165,
     "metadata": {},
     "output_type": "execute_result"
    }
   ],
   "source": [
    "train[train['Embarked'].isnull()]"
   ]
  },
  {
   "cell_type": "code",
   "execution_count": 166,
   "metadata": {},
   "outputs": [],
   "source": [
    "train.loc[61,'Embarked'] = \"S\"\n",
    "train.loc[829,'Embarked'] = \"S\""
   ]
  },
  {
   "cell_type": "code",
   "execution_count": null,
   "metadata": {},
   "outputs": [],
   "source": []
  },
  {
   "cell_type": "code",
   "execution_count": 167,
   "metadata": {
    "scrolled": true
   },
   "outputs": [
    {
     "data": {
      "text/plain": [
       "S    270\n",
       "C    102\n",
       "Q     46\n",
       "Name: Embarked, dtype: int64"
      ]
     },
     "execution_count": 167,
     "metadata": {},
     "output_type": "execute_result"
    }
   ],
   "source": [
    "test['Embarked'].value_counts()"
   ]
  },
  {
   "cell_type": "code",
   "execution_count": 168,
   "metadata": {},
   "outputs": [
    {
     "data": {
      "text/html": [
       "<div>\n",
       "<style scoped>\n",
       "    .dataframe tbody tr th:only-of-type {\n",
       "        vertical-align: middle;\n",
       "    }\n",
       "\n",
       "    .dataframe tbody tr th {\n",
       "        vertical-align: top;\n",
       "    }\n",
       "\n",
       "    .dataframe thead th {\n",
       "        text-align: right;\n",
       "    }\n",
       "</style>\n",
       "<table border=\"1\" class=\"dataframe\">\n",
       "  <thead>\n",
       "    <tr style=\"text-align: right;\">\n",
       "      <th></th>\n",
       "      <th>PassengerId</th>\n",
       "      <th>Pclass</th>\n",
       "      <th>Name</th>\n",
       "      <th>Sex</th>\n",
       "      <th>Age</th>\n",
       "      <th>SibSp</th>\n",
       "      <th>Parch</th>\n",
       "      <th>Ticket</th>\n",
       "      <th>Fare</th>\n",
       "      <th>Cabin</th>\n",
       "      <th>Embarked</th>\n",
       "      <th>Gender</th>\n",
       "    </tr>\n",
       "  </thead>\n",
       "  <tbody>\n",
       "  </tbody>\n",
       "</table>\n",
       "</div>"
      ],
      "text/plain": [
       "Empty DataFrame\n",
       "Columns: [PassengerId, Pclass, Name, Sex, Age, SibSp, Parch, Ticket, Fare, Cabin, Embarked, Gender]\n",
       "Index: []"
      ]
     },
     "execution_count": 168,
     "metadata": {},
     "output_type": "execute_result"
    }
   ],
   "source": [
    "test[test['Embarked'].isnull()]"
   ]
  },
  {
   "cell_type": "code",
   "execution_count": null,
   "metadata": {},
   "outputs": [],
   "source": []
  },
  {
   "cell_type": "markdown",
   "metadata": {},
   "source": [
    "# Q19"
   ]
  },
  {
   "cell_type": "code",
   "execution_count": 169,
   "metadata": {},
   "outputs": [
    {
     "data": {
      "text/html": [
       "<div>\n",
       "<style scoped>\n",
       "    .dataframe tbody tr th:only-of-type {\n",
       "        vertical-align: middle;\n",
       "    }\n",
       "\n",
       "    .dataframe tbody tr th {\n",
       "        vertical-align: top;\n",
       "    }\n",
       "\n",
       "    .dataframe thead th {\n",
       "        text-align: right;\n",
       "    }\n",
       "</style>\n",
       "<table border=\"1\" class=\"dataframe\">\n",
       "  <thead>\n",
       "    <tr style=\"text-align: right;\">\n",
       "      <th></th>\n",
       "      <th>PassengerId</th>\n",
       "      <th>Pclass</th>\n",
       "      <th>Name</th>\n",
       "      <th>Sex</th>\n",
       "      <th>Age</th>\n",
       "      <th>SibSp</th>\n",
       "      <th>Parch</th>\n",
       "      <th>Ticket</th>\n",
       "      <th>Fare</th>\n",
       "      <th>Cabin</th>\n",
       "      <th>Embarked</th>\n",
       "      <th>Gender</th>\n",
       "    </tr>\n",
       "  </thead>\n",
       "  <tbody>\n",
       "    <tr>\n",
       "      <th>152</th>\n",
       "      <td>1044</td>\n",
       "      <td>3</td>\n",
       "      <td>Storey, Mr. Thomas</td>\n",
       "      <td>male</td>\n",
       "      <td>60.5</td>\n",
       "      <td>0</td>\n",
       "      <td>0</td>\n",
       "      <td>3701</td>\n",
       "      <td>NaN</td>\n",
       "      <td>NaN</td>\n",
       "      <td>S</td>\n",
       "      <td>0</td>\n",
       "    </tr>\n",
       "  </tbody>\n",
       "</table>\n",
       "</div>"
      ],
      "text/plain": [
       "     PassengerId  Pclass                Name   Sex   Age  SibSp  Parch Ticket  \\\n",
       "152         1044       3  Storey, Mr. Thomas  male  60.5      0      0   3701   \n",
       "\n",
       "     Fare Cabin Embarked  Gender  \n",
       "152   NaN   NaN        S       0  "
      ]
     },
     "execution_count": 169,
     "metadata": {},
     "output_type": "execute_result"
    }
   ],
   "source": [
    "test[test['Fare'].isnull()]"
   ]
  },
  {
   "cell_type": "code",
   "execution_count": 170,
   "metadata": {},
   "outputs": [
    {
     "data": {
      "text/plain": [
       "7.7500     21\n",
       "26.0000    19\n",
       "8.0500     17\n",
       "13.0000    17\n",
       "7.8958     11\n",
       "           ..\n",
       "9.3250      1\n",
       "14.4583     1\n",
       "15.0333     1\n",
       "25.4667     1\n",
       "21.0750     1\n",
       "Name: Fare, Length: 169, dtype: int64"
      ]
     },
     "execution_count": 170,
     "metadata": {},
     "output_type": "execute_result"
    }
   ],
   "source": [
    "test['Fare'].value_counts()"
   ]
  },
  {
   "cell_type": "code",
   "execution_count": 171,
   "metadata": {},
   "outputs": [],
   "source": [
    "test.loc[152, \"Fare\"] = 7.75"
   ]
  },
  {
   "cell_type": "code",
   "execution_count": null,
   "metadata": {},
   "outputs": [],
   "source": []
  },
  {
   "cell_type": "code",
   "execution_count": 172,
   "metadata": {},
   "outputs": [
    {
     "data": {
      "text/html": [
       "<div>\n",
       "<style scoped>\n",
       "    .dataframe tbody tr th:only-of-type {\n",
       "        vertical-align: middle;\n",
       "    }\n",
       "\n",
       "    .dataframe tbody tr th {\n",
       "        vertical-align: top;\n",
       "    }\n",
       "\n",
       "    .dataframe thead th {\n",
       "        text-align: right;\n",
       "    }\n",
       "</style>\n",
       "<table border=\"1\" class=\"dataframe\">\n",
       "  <thead>\n",
       "    <tr style=\"text-align: right;\">\n",
       "      <th></th>\n",
       "      <th>PassengerId</th>\n",
       "      <th>Survived</th>\n",
       "      <th>Pclass</th>\n",
       "      <th>Name</th>\n",
       "      <th>Sex</th>\n",
       "      <th>Age</th>\n",
       "      <th>SibSp</th>\n",
       "      <th>Parch</th>\n",
       "      <th>Ticket</th>\n",
       "      <th>Fare</th>\n",
       "      <th>Cabin</th>\n",
       "      <th>Embarked</th>\n",
       "    </tr>\n",
       "  </thead>\n",
       "  <tbody>\n",
       "  </tbody>\n",
       "</table>\n",
       "</div>"
      ],
      "text/plain": [
       "Empty DataFrame\n",
       "Columns: [PassengerId, Survived, Pclass, Name, Sex, Age, SibSp, Parch, Ticket, Fare, Cabin, Embarked]\n",
       "Index: []"
      ]
     },
     "execution_count": 172,
     "metadata": {},
     "output_type": "execute_result"
    }
   ],
   "source": [
    "train[train['Fare'].isnull()]"
   ]
  },
  {
   "cell_type": "code",
   "execution_count": 173,
   "metadata": {},
   "outputs": [
    {
     "data": {
      "text/plain": [
       "8.0500     43\n",
       "13.0000    42\n",
       "7.8958     38\n",
       "7.7500     34\n",
       "26.0000    31\n",
       "           ..\n",
       "8.4583      1\n",
       "9.8375      1\n",
       "8.3625      1\n",
       "14.1083     1\n",
       "17.4000     1\n",
       "Name: Fare, Length: 248, dtype: int64"
      ]
     },
     "execution_count": 173,
     "metadata": {},
     "output_type": "execute_result"
    }
   ],
   "source": [
    "train['Fare'].value_counts()"
   ]
  },
  {
   "cell_type": "code",
   "execution_count": null,
   "metadata": {},
   "outputs": [],
   "source": []
  },
  {
   "cell_type": "code",
   "execution_count": null,
   "metadata": {},
   "outputs": [],
   "source": []
  },
  {
   "cell_type": "markdown",
   "metadata": {},
   "source": [
    "# Q20"
   ]
  },
  {
   "cell_type": "code",
   "execution_count": 174,
   "metadata": {},
   "outputs": [],
   "source": [
    "train['FareBand'] = 0"
   ]
  },
  {
   "cell_type": "code",
   "execution_count": 175,
   "metadata": {},
   "outputs": [],
   "source": [
    "zero_index = train.loc[(train['Fare'] >= 0) & (train['Fare'] <= 7.91)].index"
   ]
  },
  {
   "cell_type": "code",
   "execution_count": 176,
   "metadata": {},
   "outputs": [],
   "source": [
    "one_index = train.loc[(train['Fare'] > 7.91) & (train['Fare'] <= 14.454)].index\n",
    "two_index = train.loc[(train['Fare'] > 14.454) & (train['Fare'] <= 31)].index\n",
    "three_index = train.loc[train['Fare'] > 31].index\n",
    "#train[(train['Fare'] > 14.454) & (train['Fare'] <= 31)]['FareBand'] = 2\n",
    "#train[train['Fare'] > 31]['FareBand'] = 3"
   ]
  },
  {
   "cell_type": "code",
   "execution_count": 177,
   "metadata": {},
   "outputs": [],
   "source": [
    "for i in zero_index:\n",
    "    train.loc[i,'FareBand'] = 0\n",
    "\n",
    "for i in one_index:\n",
    "    train.loc[i,'FareBand'] = 1\n",
    "    \n",
    "for i in two_index:\n",
    "    train.loc[i,'FareBand'] = 2\n",
    "    \n",
    "for i in three_index:\n",
    "    train.loc[i,'FareBand'] = 3"
   ]
  },
  {
   "cell_type": "code",
   "execution_count": null,
   "metadata": {},
   "outputs": [],
   "source": [
    "train"
   ]
  },
  {
   "cell_type": "code",
   "execution_count": null,
   "metadata": {},
   "outputs": [],
   "source": []
  },
  {
   "cell_type": "code",
   "execution_count": 174,
   "metadata": {},
   "outputs": [],
   "source": [
    "test['FareBand'] = 0"
   ]
  },
  {
   "cell_type": "code",
   "execution_count": 178,
   "metadata": {},
   "outputs": [],
   "source": [
    "zero_index = test.loc[(test['Fare'] >= 0) & (test['Fare'] <= 7.91)].index"
   ]
  },
  {
   "cell_type": "code",
   "execution_count": 179,
   "metadata": {},
   "outputs": [],
   "source": [
    "one_index = test.loc[(test['Fare'] > 7.91) & (test['Fare'] <= 14.454)].index\n",
    "two_index = test.loc[(test['Fare'] > 14.454) & (test['Fare'] <= 31)].index\n",
    "three_index = test.loc[test['Fare'] > 31].index\n",
    "#test[(test['Fare'] > 14.454) & (test['Fare'] <= 31)]['FareBand'] = 2\n",
    "#test[test['Fare'] > 31]['FareBand'] = 3"
   ]
  },
  {
   "cell_type": "code",
   "execution_count": 180,
   "metadata": {},
   "outputs": [],
   "source": [
    "for i in zero_index:\n",
    "    test.loc[i,'FareBand'] = 0\n",
    "\n",
    "for i in one_index:\n",
    "    test.loc[i,'FareBand'] = 1\n",
    "    \n",
    "for i in two_index:\n",
    "    test.loc[i,'FareBand'] = 2\n",
    "    \n",
    "for i in three_index:\n",
    "    test.loc[i,'FareBand'] = 3"
   ]
  },
  {
   "cell_type": "code",
   "execution_count": null,
   "metadata": {},
   "outputs": [],
   "source": []
  },
  {
   "cell_type": "markdown",
   "metadata": {},
   "source": [
    "# Training a linear regression model"
   ]
  },
  {
   "cell_type": "code",
   "execution_count": 190,
   "metadata": {},
   "outputs": [],
   "source": [
    "train_copy = train.copy()"
   ]
  },
  {
   "cell_type": "code",
   "execution_count": 191,
   "metadata": {},
   "outputs": [],
   "source": [
    "train_copy = train_copy.drop(\"Survived\", axis=1)"
   ]
  },
  {
   "cell_type": "code",
   "execution_count": 192,
   "metadata": {
    "scrolled": true
   },
   "outputs": [],
   "source": [
    "train_copy = train_copy[['Pclass', 'SibSp','FareBand']]"
   ]
  },
  {
   "cell_type": "code",
   "execution_count": 193,
   "metadata": {},
   "outputs": [],
   "source": [
    "labels = train['Survived']"
   ]
  },
  {
   "cell_type": "code",
   "execution_count": 194,
   "metadata": {},
   "outputs": [],
   "source": [
    "from sklearn.linear_model import LinearRegression"
   ]
  },
  {
   "cell_type": "code",
   "execution_count": 195,
   "metadata": {},
   "outputs": [],
   "source": [
    "reg = LinearRegression().fit(train_copy, labels)"
   ]
  },
  {
   "cell_type": "code",
   "execution_count": 196,
   "metadata": {},
   "outputs": [],
   "source": [
    "test_copy = test[['Pclass','SibSp','FareBand']]"
   ]
  },
  {
   "cell_type": "code",
   "execution_count": 197,
   "metadata": {
    "scrolled": true
   },
   "outputs": [
    {
     "data": {
      "text/plain": [
       "array([0.18902539, 0.14344002, 0.39585733, 0.2820084 , 0.23642304,\n",
       "       0.2820084 , 0.18902539, 0.44325498, 0.18902539, 0.28382068,\n",
       "       0.18902539, 0.60268927, 0.65008691, 0.44325498, 0.65008691,\n",
       "       0.44325498, 0.39585733, 0.18902539, 0.23642304, 0.18902539,\n",
       "       0.65008691, 0.18902539, 0.69567228, 0.69567228, 0.65008691,\n",
       "       0.32940605, 0.69567228, 0.18902539, 0.60268927, 0.28382068,\n",
       "       0.44325498, 0.49065262, 0.32940605, 0.32940605, 0.65008691,\n",
       "       0.18902539, 0.2820084 , 0.2820084 , 0.2820084 , 0.46797444,\n",
       "       0.2820084 , 0.60268927, 0.18902539, 0.39585733, 0.65008691,\n",
       "       0.2820084 , 0.60268927, 0.18902539, 0.69567228, 0.37499142,\n",
       "       0.65008691, 0.48884034, 0.39766961, 0.55891618, 0.48884034,\n",
       "       0.19264995, 0.18902539, 0.18902539, 0.32940605, 0.69567228,\n",
       "       0.18902539, 0.39585733, 0.18902539, 0.18902539, 0.60450155,\n",
       "       0.48884034, 0.18902539, 0.69567228, 0.60268927, 0.65008691,\n",
       "       0.18902539, 0.18902539, 0.2820084 , 0.60268927, 0.69567228,\n",
       "       0.69567228, 0.2820084 , 0.51151853, 0.39585733, 0.18902539,\n",
       "       0.32940605, 0.65008691, 0.60268927, 0.18902539, 0.39585733,\n",
       "       0.32940605, 0.18902539, 0.2820084 , 0.18902539, 0.44325498,\n",
       "       0.23642304, 0.18902539, 0.65008691, 0.2820084 , 0.60268927,\n",
       "       0.18902539, 0.65008691, 0.2820084 , 0.18902539, 0.2820084 ,\n",
       "       0.65008691, 0.44325498, 0.18902539, 0.18902539, 0.23642304,\n",
       "       0.37499142, 0.18902539, 0.18902539, 0.2820084 , 0.39585733,\n",
       "       0.48884034, 0.18902539, 0.69567228, 0.18902539, 0.65008691,\n",
       "       0.32940605, 0.18902539, 0.32940605, 0.69567228, 0.44325498,\n",
       "       0.48884034, 0.14344002, 0.65008691, 0.18902539, 0.18902539,\n",
       "       0.37499142, 0.18902539, 0.28382068, 0.39585733, 0.2820084 ,\n",
       "       0.2820084 , 0.60268927, 0.37499142, 0.14344002, 0.18902539,\n",
       "       0.18902539, 0.18902539, 0.39585733, 0.2820084 , 0.42238907,\n",
       "       0.2400476 , 0.69567228, 0.65008691, 0.48884034, 0.60268927,\n",
       "       0.23823532, 0.69567228, 0.2820084 , 0.60268927, 0.44325498,\n",
       "       0.69567228, 0.18902539, 0.18902539, 0.2820084 , 0.28563297,\n",
       "       0.18902539, 0.69567228, 0.18902539, 0.60268927, 0.2820084 ,\n",
       "       0.18902539, 0.32940605, 0.39585733, 0.18902539, 0.39585733,\n",
       "       0.32940605, 0.69567228, 0.3768037 , 0.60268927, 0.2820084 ,\n",
       "       0.18902539, 0.18902539, 0.23642304, 0.18902539, 0.42238907,\n",
       "       0.58182336, 0.58182336, 0.65008691, 0.58182336, 0.69567228,\n",
       "       0.39585733, 0.65008691, 0.65008691, 0.18902539, 0.65008691,\n",
       "       0.48884034, 0.48884034, 0.19083767, 0.1032915 , 0.39585733,\n",
       "       0.44325498, 0.60268927, 0.32940605, 0.39585733, 0.58182336,\n",
       "       0.18902539, 0.69567228, 0.18902539, 0.39585733, 0.2820084 ,\n",
       "       0.37499142, 0.2820084 , 0.65008691, 0.44325498, 0.39585733,\n",
       "       0.60268927, 0.18902539, 0.39585733, 0.60268927, 0.18902539,\n",
       "       0.37499142, 0.18902539, 0.58182336, 0.44325498, 0.00668392,\n",
       "       0.69567228, 0.18902539, 0.65008691, 0.65008691, 0.2820084 ,\n",
       "       0.35027196, 0.2820084 , 0.39585733, 0.18902539, 0.60268927,\n",
       "       0.37499142, 0.18902539, 0.18902539, 0.37499142, 0.39585733,\n",
       "       0.58182336, 0.60268927, 0.14344002, 0.18902539, 0.65008691,\n",
       "       0.18902539, 0.65008691, 0.18902539, 0.35027196, 0.65008691,\n",
       "       0.60268927, 0.48884034, 0.65008691, 0.18902539, 0.32940605,\n",
       "       0.65008691, 0.48884034, 0.53623799, 0.44325498, 0.32940605,\n",
       "       0.44325498, 0.2820084 , 0.65008691, 0.2820084 , 0.2820084 ,\n",
       "       0.18902539, 0.18902539, 0.2820084 , 0.39585733, 0.18902539,\n",
       "       0.32940605, 0.18902539, 0.48884034, 0.23642304, 0.39585733,\n",
       "       0.18902539, 0.41672323, 0.18902539, 0.2820084 , 0.2820084 ,\n",
       "       0.69567228, 0.18902539, 0.65008691, 0.32940605, 0.18902539,\n",
       "       0.44325498, 0.39585733, 0.44325498, 0.44325498, 0.39585733,\n",
       "       0.2820084 , 0.23642304, 0.18902539, 0.32940605, 0.32940605,\n",
       "       0.18902539, 0.18902539, 0.65008691, 0.18902539, 0.2820084 ,\n",
       "       0.69567228, 0.18902539, 0.18902539, 0.65008691, 0.2820084 ,\n",
       "       0.18902539, 0.53623799, 0.28382068, 0.69567228, 0.18902539,\n",
       "       0.18902539, 0.48884034, 0.48884034, 0.2820084 , 0.18902539,\n",
       "       0.5571039 , 0.65008691, 0.2820084 , 0.65008691, 0.23642304,\n",
       "       0.2820084 , 0.18902539, 0.18902539, 0.18902539, 0.69567228,\n",
       "       0.18902539, 0.65008691, 0.39585733, 0.18902539, 0.49065262,\n",
       "       0.18902539, 0.18902539, 0.39585733, 0.60268927, 0.69567228,\n",
       "       0.18902539, 0.49065262, 0.69567228, 0.44325498, 0.39585733,\n",
       "       0.58182336, 0.60268927, 0.18902539, 0.32940605, 0.18902539,\n",
       "       0.60268927, 0.39585733, 0.18902539, 0.58182336, 0.18902539,\n",
       "       0.39585733, 0.18902539, 0.42238907, 0.69567228, 0.32940605,\n",
       "       0.18902539, 0.39585733, 0.18902539, 0.39585733, 0.48884034,\n",
       "       0.69567228, 0.39585733, 0.58182336, 0.53623799, 0.32940605,\n",
       "       0.60268927, 0.60450155, 0.18902539, 0.18902539, 0.32940605,\n",
       "       0.1032915 , 0.53623799, 0.48884034, 0.2820084 , 0.65008691,\n",
       "       0.42238907, 0.32940605, 0.46797444, 0.69567228, 0.39585733,\n",
       "       0.35027196, 0.69567228, 0.41672323, 0.39585733, 0.65008691,\n",
       "       0.69567228, 0.19083767, 0.39585733, 0.69567228, 0.28563297,\n",
       "       0.18902539, 0.18902539, 0.37499142, 0.32940605, 0.39585733,\n",
       "       0.53623799, 0.18902539, 0.39585733, 0.18902539, 0.23823532,\n",
       "       0.69567228, 0.69567228, 0.37499142, 0.39585733, 0.23823532,\n",
       "       0.65008691, 0.18902539, 0.65008691, 0.18902539, 0.18902539,\n",
       "       0.69567228, 0.44325498, 0.69567228, 0.69567228, 0.5571039 ,\n",
       "       0.39585733, 0.35027196, 0.65008691, 0.18902539, 0.23642304,\n",
       "       0.18902539, 0.65008691, 0.18902539, 0.2820084 , 0.69567228,\n",
       "       0.18902539, 0.2820084 , 0.32940605])"
      ]
     },
     "execution_count": 197,
     "metadata": {},
     "output_type": "execute_result"
    }
   ],
   "source": [
    "reg.predict(test_copy)"
   ]
  },
  {
   "cell_type": "code",
   "execution_count": 198,
   "metadata": {},
   "outputs": [],
   "source": [
    "finaldata = pd.DataFrame(reg.predict(test_copy), columns=['prediction'])"
   ]
  },
  {
   "cell_type": "code",
   "execution_count": 199,
   "metadata": {},
   "outputs": [
    {
     "data": {
      "text/html": [
       "<div>\n",
       "<style scoped>\n",
       "    .dataframe tbody tr th:only-of-type {\n",
       "        vertical-align: middle;\n",
       "    }\n",
       "\n",
       "    .dataframe tbody tr th {\n",
       "        vertical-align: top;\n",
       "    }\n",
       "\n",
       "    .dataframe thead th {\n",
       "        text-align: right;\n",
       "    }\n",
       "</style>\n",
       "<table border=\"1\" class=\"dataframe\">\n",
       "  <thead>\n",
       "    <tr style=\"text-align: right;\">\n",
       "      <th></th>\n",
       "      <th>prediction</th>\n",
       "    </tr>\n",
       "  </thead>\n",
       "  <tbody>\n",
       "    <tr>\n",
       "      <th>0</th>\n",
       "      <td>0.189025</td>\n",
       "    </tr>\n",
       "    <tr>\n",
       "      <th>1</th>\n",
       "      <td>0.143440</td>\n",
       "    </tr>\n",
       "    <tr>\n",
       "      <th>2</th>\n",
       "      <td>0.395857</td>\n",
       "    </tr>\n",
       "    <tr>\n",
       "      <th>3</th>\n",
       "      <td>0.282008</td>\n",
       "    </tr>\n",
       "    <tr>\n",
       "      <th>4</th>\n",
       "      <td>0.236423</td>\n",
       "    </tr>\n",
       "    <tr>\n",
       "      <th>...</th>\n",
       "      <td>...</td>\n",
       "    </tr>\n",
       "    <tr>\n",
       "      <th>413</th>\n",
       "      <td>0.282008</td>\n",
       "    </tr>\n",
       "    <tr>\n",
       "      <th>414</th>\n",
       "      <td>0.695672</td>\n",
       "    </tr>\n",
       "    <tr>\n",
       "      <th>415</th>\n",
       "      <td>0.189025</td>\n",
       "    </tr>\n",
       "    <tr>\n",
       "      <th>416</th>\n",
       "      <td>0.282008</td>\n",
       "    </tr>\n",
       "    <tr>\n",
       "      <th>417</th>\n",
       "      <td>0.329406</td>\n",
       "    </tr>\n",
       "  </tbody>\n",
       "</table>\n",
       "<p>418 rows × 1 columns</p>\n",
       "</div>"
      ],
      "text/plain": [
       "     prediction\n",
       "0      0.189025\n",
       "1      0.143440\n",
       "2      0.395857\n",
       "3      0.282008\n",
       "4      0.236423\n",
       "..          ...\n",
       "413    0.282008\n",
       "414    0.695672\n",
       "415    0.189025\n",
       "416    0.282008\n",
       "417    0.329406\n",
       "\n",
       "[418 rows x 1 columns]"
      ]
     },
     "execution_count": 199,
     "metadata": {},
     "output_type": "execute_result"
    }
   ],
   "source": [
    "finaldata"
   ]
  },
  {
   "cell_type": "code",
   "execution_count": null,
   "metadata": {},
   "outputs": [],
   "source": [
    "finaldata.to_csv(\"finalp\")"
   ]
  }
 ],
 "metadata": {
  "kernelspec": {
   "display_name": "Python 3",
   "language": "python",
   "name": "python3"
  },
  "language_info": {
   "codemirror_mode": {
    "name": "ipython",
    "version": 3
   },
   "file_extension": ".py",
   "mimetype": "text/x-python",
   "name": "python",
   "nbconvert_exporter": "python",
   "pygments_lexer": "ipython3",
   "version": "3.7.6"
  }
 },
 "nbformat": 4,
 "nbformat_minor": 4
}
